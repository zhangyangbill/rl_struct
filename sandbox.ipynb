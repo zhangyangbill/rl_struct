{
 "cells": [
  {
   "cell_type": "code",
   "execution_count": null,
   "metadata": {},
   "outputs": [],
   "source": [
    "import os\n",
    "os.environ[\"CUDA_DEVICE_ORDER\"]=\"PCI_BUS_ID\"\n",
    "os.environ[\"CUDA_VISIBLE_DEVICES\"]=\"0\"\n",
    "from tensorflow.python.client import device_lib\n",
    "print device_lib.list_local_devices()"
   ]
  },
  {
   "cell_type": "code",
   "execution_count": null,
   "metadata": {},
   "outputs": [],
   "source": [
    "import tensorflow as tf\n",
    "import numpy as np\n",
    "from StochasticDropoutNet_unrolled import StochasticDropoutNet\n",
    "from util import xor_data, extract_update_dict\n",
    "from tensorflow.examples.tutorials.mnist import input_data\n",
    "mnist = input_data.read_data_sets('MNIST_data', one_hot=False)"
   ]
  },
  {
   "cell_type": "code",
   "execution_count": null,
   "metadata": {},
   "outputs": [],
   "source": [
    "# model = StochasticDropoutNet(min_dropout_rate = 0.001, max_dropout_rate = 0.001, num_weight_train_steps = 64)\n",
    "model = StochasticDropoutNet(min_init_dropout_rate = 0.001, \n",
    "                             max_init_dropout_rate = 0.001,\n",
    "                             train_batch_size = 128,\n",
    "                             valid_batch_size = 256)"
   ]
  },
  {
   "cell_type": "code",
   "execution_count": null,
   "metadata": {},
   "outputs": [],
   "source": [
    "inputs_train, targets_train = mnist.train.next_batch(55000)\n",
    "inputs_train = inputs_train.reshape((-1, 28, 28, 1))\n",
    "inputs_valid, targets_valid = mnist.validation.next_batch(5000)\n",
    "inputs_valid = inputs_valid.reshape((-1, 28, 28, 1))\n",
    "\n",
    "model.train_unroll(inputs_train, targets_train, inputs_valid, targets_valid, num_epochs = 40)\n",
    "model.train_fine_tune(inputs_train, targets_train, inputs_valid, targets_valid, num_epochs = 20)"
   ]
  },
  {
   "cell_type": "code",
   "execution_count": null,
   "metadata": {},
   "outputs": [],
   "source": [
    "inputs_test, targets_test = mnist.test.next_batch(10000)\n",
    "inputs_test = inputs_test.reshape((-1, 28, 28, 1))\n",
    "accs = []\n",
    "for i in range(10):\n",
    "    feed_dict = {model.inputs: inputs_test[i*1000:(i+1)*1000, ...], \n",
    "                 model.targets: targets_test[i*1000:(i+1)*1000, ...]}\n",
    "    acc = model.sess.run(model.accuracy, feed_dict=feed_dict)\n",
    "    accs.append(acc)\n",
    "    \n",
    "print(sum(accs)/10)"
   ]
  },
  {
   "cell_type": "code",
   "execution_count": null,
   "metadata": {},
   "outputs": [],
   "source": [
    "import csv\n",
    "with open('./log/results.csv', 'a+') as f:\n",
    "    writer = csv.writer(f)\n",
    "    writer.writerow(model.train_losses)\n",
    "    writer.writerow(model.valid_losses)"
   ]
  },
  {
   "cell_type": "code",
   "execution_count": null,
   "metadata": {},
   "outputs": [],
   "source": [
    "feed_dict = {model.inputs: inputs_train[0 : 32, ...],\n",
    "             model.targets: targets_train[0 : 32, ...]}\n",
    "print(model.pred)\n",
    "print(model.sess.run(model.pred, feed_dict = feed_dict))\n",
    "print(model.sess.run(model.targets, feed_dict = feed_dict))\n",
    "print(model.struct_train_op)"
   ]
  },
  {
   "cell_type": "code",
   "execution_count": null,
   "metadata": {},
   "outputs": [],
   "source": [
    "inputs_train, targets_train = mnist.train.next_batch(55000)\n",
    "a = (targets_train.shape)\n",
    "print(a)"
   ]
  }
 ],
 "metadata": {
  "kernelspec": {
   "display_name": "Python 2",
   "language": "python",
   "name": "python2"
  },
  "language_info": {
   "codemirror_mode": {
    "name": "ipython",
    "version": 2
   },
   "file_extension": ".py",
   "mimetype": "text/x-python",
   "name": "python",
   "nbconvert_exporter": "python",
   "pygments_lexer": "ipython2",
   "version": "2.7.6"
  }
 },
 "nbformat": 4,
 "nbformat_minor": 2
}
