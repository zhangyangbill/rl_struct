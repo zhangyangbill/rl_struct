{
 "cells": [
  {
   "cell_type": "code",
   "execution_count": 1,
   "metadata": {},
   "outputs": [],
   "source": [
    "%load_ext autoreload\n",
    "%autoreload 2\n",
    "import os\n",
    "os.environ[\"CUDA_DEVICE_ORDER\"]=\"PCI_BUS_ID\"\n",
    "os.environ[\"CUDA_VISIBLE_DEVICES\"]=\"0\"\n",
    "#from tensorflow.python.client import device_lib\n",
    "#print device_lib.list_local_devices()"
   ]
  },
  {
   "cell_type": "code",
   "execution_count": 2,
   "metadata": {},
   "outputs": [],
   "source": [
    "import tensorflow as tf\n",
    "import numpy as np\n",
    "from pdrnn import triangular_pmf, build_pdrnn, compute_loss\n",
    "from StochasticDilateNet import StochasticDilateNet\n",
    "from scipy.stats import bernoulli"
   ]
  },
  {
   "cell_type": "code",
   "execution_count": 3,
   "metadata": {},
   "outputs": [],
   "source": [
    "tf.reset_default_graph()\n",
    "hidden_structs = [4]*2\n",
    "init_params = [(1.0,0.5),(100.0,50.0)]\n",
    "model = StochasticDilateNet(hidden_structs,\n",
    "                            init_params,\n",
    "                            n_layers=2,\n",
    "                            n_classes=2,\n",
    "                            input_dims=1,\n",
    "                            lambda_b=0.9,\n",
    "                            cell_type=\"RNN\")\n",
    "# define session\n",
    "sess_config = tf.ConfigProto(allow_soft_placement=True,\n",
    "                             log_device_placement=False,\n",
    "                             intra_op_parallelism_threads=20,\n",
    "                             inter_op_parallelism_threads=4)\n",
    "sess_config.gpu_options.allow_growth = True"
   ]
  },
  {
   "cell_type": "code",
   "execution_count": 4,
   "metadata": {},
   "outputs": [
    {
     "name": "stdout",
     "output_type": "stream",
     "text": [
      "Before Clipping [(1.0, 0.5), (99.9, 49.900005)], Rates [1, 118], b = 0.295628666878, accuracy = 0.51171875\n",
      "Step 0, struct params [(2.0, 1.5), (99.9, 49.900005)], loss = 1.60100984573\n",
      "Before Clipping [(2.0, 1.5), (99.889656, 49.809036)], Rates [1, 130], b = 0.53723025322, accuracy = 0.51171875\n",
      "Step 1, struct params [(2.0, 1.5), (99.889656, 49.809036)], loss = 1.61814165115\n",
      "Before Clipping [(2.0, 1.5), (99.919235, 49.718998)], Rates [2, 102], b = 0.712356567383, accuracy = 0.53515625\n",
      "Step 2, struct params [(2.0, 1.5), (99.919235, 49.718998)], loss = 1.43757724762\n",
      "Before Clipping [(2.0, 1.5), (99.92398, 49.63707)], Rates [2, 87], b = 0.878156423569, accuracy = 0.4765625\n",
      "Step 3, struct params [(2.0, 1.5), (99.92398, 49.63707)], loss = 1.60265910625\n",
      "Before Clipping [(2.0, 1.5), (99.9395, 49.55741)], Rates [1, 97], b = 0.970369398594, accuracy = 0.56640625\n",
      "Step 4, struct params [(2.0, 1.5), (99.9395, 49.55741)], loss = 1.38835930824\n",
      "Before Clipping [(2.0, 1.5), (99.97043, 49.47385)], Rates [2, 81], b = 1.12156569958, accuracy = 0.42578125\n",
      "Step 5, struct params [(2.0, 1.5), (99.97043, 49.47385)], loss = 1.73838090897\n",
      "Before Clipping [(2.0, 1.5), (100.017, 49.38815)], Rates [1, 114], b = 1.21613919735, accuracy = 0.46875\n",
      "Step 6, struct params [(2.0, 1.5), (100.017, 49.38815)], loss = 1.57310461998\n",
      "Before Clipping [(2.0, 1.5), (100.04896, 49.301483)], Rates [2, 102], b = 1.25301039219, accuracy = 0.546875\n",
      "Step 7, struct params [(2.0, 1.5), (100.04896, 49.301483)], loss = 1.42164993286\n",
      "Before Clipping [(2.0, 1.5), (100.07488, 49.223404)], Rates [2, 90], b = 1.28306138515, accuracy = 0.53125\n",
      "Step 8, struct params [(2.0, 1.5), (100.07488, 49.223404)], loss = 1.42422962189\n",
      "Before Clipping [(2.0, 1.5), (100.097244, 49.15365)], Rates [1, 101], b = 1.29072582722, accuracy = 0.51171875\n",
      "Step 9, struct params [(2.0, 1.5), (100.097244, 49.15365)], loss = 1.30305206776\n",
      "Before Clipping [(2.0, 1.5), (100.11616, 49.091084)], Rates [1, 67], b = 1.31142997742, accuracy = 0.4921875\n",
      "Step 10, struct params [(2.0, 1.5), (100.11616, 49.091084)], loss = 1.48974752426\n",
      "Before Clipping [(2.0, 1.5), (100.13234, 49.03597)], Rates [2, 76], b = 1.30694806576, accuracy = 0.51953125\n",
      "Step 11, struct params [(2.0, 1.5), (100.13234, 49.03597)], loss = 1.30675923824\n",
      "Before Clipping [(2.0, 1.5), (100.14681, 48.98633)], Rates [2, 78], b = 1.3038725853, accuracy = 0.49609375\n",
      "Step 12, struct params [(2.0, 1.5), (100.14681, 48.98633)], loss = 1.25538599491\n",
      "Before Clipping [(2.0, 1.5), (100.160385, 48.941406)], Rates [2, 101], b = 1.31182777882, accuracy = 0.4765625\n",
      "Step 13, struct params [(2.0, 1.5), (100.160385, 48.941406)], loss = 1.29886686802\n",
      "Before Clipping [(2.0, 1.5), (100.17479, 48.898693)], Rates [2, 98], b = 1.32372319698, accuracy = 0.5\n",
      "Step 14, struct params [(2.0, 1.5), (100.17479, 48.898693)], loss = 1.37193512917\n",
      "Before Clipping [(2.0, 1.5), (100.18674, 48.859993)], Rates [2, 117], b = 1.30321979523, accuracy = 0.53125\n",
      "Step 15, struct params [(2.0, 1.5), (100.18674, 48.859993)], loss = 1.25856792927\n",
      "Before Clipping [(2.0, 1.5), (100.19739, 48.82503)], Rates [1, 93], b = 1.30496072769, accuracy = 0.453125\n",
      "Step 16, struct params [(2.0, 1.5), (100.19739, 48.82503)], loss = 1.33241438866\n",
      "Before Clipping [(2.0, 1.5), (100.20705, 48.793293)], Rates [2, 90], b = 1.30336546898, accuracy = 0.5\n",
      "Step 17, struct params [(2.0, 1.5), (100.20705, 48.793293)], loss = 1.28810620308\n",
      "Before Clipping [(2.0, 1.5), (100.21469, 48.76507)], Rates [2, 98], b = 1.28847002983, accuracy = 0.51171875\n",
      "Step 18, struct params [(2.0, 1.5), (100.21469, 48.76507)], loss = 1.30472385883\n",
      "Before Clipping [(2.0, 1.5), (100.22379, 48.73981)], Rates [2, 94], b = 1.25178647041, accuracy = 0.54296875\n",
      "Step 19, struct params [(2.0, 1.5), (100.22379, 48.73981)], loss = 1.17179644108\n",
      "Before Clipping [(2.0, 1.5), (100.23322, 48.71687)], Rates [1, 118], b = 1.23271560669, accuracy = 0.484375\n",
      "Step 20, struct params [(2.0, 1.5), (100.23322, 48.71687)], loss = 1.2987036705\n",
      "Before Clipping [(2.0, 1.5), (100.24331, 48.69582)], Rates [2, 91], b = 1.24042463303, accuracy = 0.4609375\n",
      "Step 21, struct params [(2.0, 1.5), (100.24331, 48.69582)], loss = 1.27589571476\n",
      "Before Clipping [(2.0, 1.5), (100.249, 48.678246)], Rates [1, 108], b = 1.21114575863, accuracy = 0.50390625\n",
      "Step 22, struct params [(2.0, 1.5), (100.249, 48.678246)], loss = 1.13158631325\n",
      "Before Clipping [(2.0, 1.5), (100.25707, 48.666676)], Rates [2, 99], b = 1.1945168972, accuracy = 0.5078125\n",
      "Step 23, struct params [(2.0, 1.5), (100.25707, 48.666676)], loss = 1.18681275845\n",
      "Before Clipping [(2.0, 1.5), (100.26364, 48.656456)], Rates [2, 113], b = 1.18094205856, accuracy = 0.49609375\n",
      "Step 24, struct params [(2.0, 1.5), (100.26364, 48.656456)], loss = 1.15968465805\n",
      "Before Clipping [(2.0, 1.5), (100.27232, 48.649784)], Rates [2, 108], b = 1.16117525101, accuracy = 0.4921875\n",
      "Step 25, struct params [(2.0, 1.5), (100.27232, 48.649784)], loss = 1.11269795895\n",
      "Before Clipping [(2.0, 1.5), (100.27928, 48.645264)], Rates [1, 93], b = 1.15681636333, accuracy = 0.4921875\n",
      "Step 26, struct params [(2.0, 1.5), (100.27928, 48.645264)], loss = 1.042324543\n",
      "Before Clipping [(2.0, 1.5), (100.28184, 48.642315)], Rates [3, 98], b = 1.1205483675, accuracy = 0.578125\n",
      "Step 27, struct params [(2.0, 1.5), (100.28184, 48.642315)], loss = 1.06820344925\n",
      "Before Clipping [(2.0, 1.5), (100.28316, 48.640285)], Rates [2, 112], b = 1.11252427101, accuracy = 0.453125\n",
      "Step 28, struct params [(2.0, 1.5), (100.28316, 48.640285)], loss = 1.14483702183\n",
      "Before Clipping [(2.0, 1.5), (100.282745, 48.6387)], Rates [2, 88], b = 1.09895479679, accuracy = 0.484375\n",
      "Step 29, struct params [(2.0, 1.5), (100.282745, 48.6387)], loss = 1.01226532459\n",
      "Before Clipping [(2.0, 1.5), (100.28186, 48.637917)], Rates [2, 96], b = 1.07947361469, accuracy = 0.53125\n",
      "Step 30, struct params [(2.0, 1.5), (100.28186, 48.637917)], loss = 0.989651203156\n",
      "Before Clipping [(2.0, 1.5), (100.280525, 48.637447)], Rates [3, 94], b = 1.06873202324, accuracy = 0.515625\n",
      "Step 31, struct params [(2.0, 1.5), (100.280525, 48.637447)], loss = 1.04884123802\n",
      "Before Clipping [(2.0, 1.5), (100.27984, 48.63766)], Rates [1, 89], b = 1.04623818398, accuracy = 0.59765625\n",
      "Step 32, struct params [(2.0, 1.5), (100.27984, 48.63766)], loss = 0.962687253952\n",
      "Before Clipping [(2.0, 1.5), (100.285645, 48.649952)], Rates [2, 92], b = 1.03094959259, accuracy = 0.5234375\n",
      "Step 33, struct params [(2.0, 1.5), (100.285645, 48.649952)], loss = 1.04769098759\n",
      "Before Clipping [(2.0, 1.5), (100.289894, 48.661766)], Rates [1, 60], b = 1.02534556389, accuracy = 0.46484375\n",
      "Step 34, struct params [(2.0, 1.5), (100.289894, 48.661766)], loss = 1.02546298504\n",
      "Before Clipping [(2.0, 1.5), (100.29296, 48.672886)], Rates [2, 89], b = 1.01175546646, accuracy = 0.52734375\n",
      "Step 35, struct params [(2.0, 1.5), (100.29296, 48.672886)], loss = 0.925800979137\n",
      "Before Clipping [(2.0, 1.5), (100.296974, 48.683765)], Rates [1, 87], b = 0.999049305916, accuracy = 0.48828125\n",
      "Step 36, struct params [(2.0, 1.5), (100.296974, 48.683765)], loss = 1.03689825535\n",
      "Before Clipping [(2.0, 1.5), (100.29909, 48.695187)], Rates [1, 120], b = 0.989879071712, accuracy = 0.5\n",
      "Step 37, struct params [(2.0, 1.5), (100.29909, 48.695187)], loss = 0.93555110693\n",
      "Before Clipping [(2.0, 1.5), (100.29962, 48.70392)], Rates [2, 92], b = 0.98948186636, accuracy = 0.5234375\n",
      "Step 38, struct params [(2.0, 1.5), (100.29962, 48.70392)], loss = 0.969095408916\n",
      "Before Clipping [(2.0, 1.5), (100.30321, 48.71377)], Rates [2, 84], b = 0.965688586235, accuracy = 0.53125\n",
      "Step 39, struct params [(2.0, 1.5), (100.30321, 48.71377)], loss = 0.974967598915\n",
      "Before Clipping [(2.0, 1.5), (100.30715, 48.722065)], Rates [2, 86], b = 0.969830751419, accuracy = 0.515625\n",
      "Step 40, struct params [(2.0, 1.5), (100.30715, 48.722065)], loss = 0.967680811882\n",
      "Before Clipping [(2.0, 1.5), (100.3095, 48.73065)], Rates [2, 95], b = 0.960849940777, accuracy = 0.5\n",
      "Step 41, struct params [(2.0, 1.5), (100.3095, 48.73065)], loss = 1.01827204227\n",
      "Before Clipping [(2.0, 1.5), (100.31074, 48.739044)], Rates [1, 113], b = 0.960230767727, accuracy = 0.49609375\n",
      "Step 42, struct params [(2.0, 1.5), (100.31074, 48.739044)], loss = 1.03081762791\n",
      "Before Clipping [(2.0, 1.5), (100.31141, 48.74721)], Rates [1, 115], b = 0.966157436371, accuracy = 0.44140625\n",
      "Step 43, struct params [(2.0, 1.5), (100.31141, 48.74721)], loss = 1.04817438126\n"
     ]
    },
    {
     "name": "stdout",
     "output_type": "stream",
     "text": [
      "Before Clipping [(2.0, 1.5), (100.31246, 48.754677)], Rates [1, 96], b = 0.950990080833, accuracy = 0.578125\n",
      "Step 44, struct params [(2.0, 1.5), (100.31246, 48.754677)], loss = 0.978441238403\n",
      "Before Clipping [(2.0, 1.5), (100.31412, 48.761013)], Rates [1, 118], b = 0.960390925407, accuracy = 0.4609375\n",
      "Step 45, struct params [(2.0, 1.5), (100.31412, 48.761013)], loss = 0.946476578712\n",
      "Before Clipping [(2.0, 1.5), (100.314575, 48.766636)], Rates [2, 98], b = 0.964907705784, accuracy = 0.5\n",
      "Step 46, struct params [(2.0, 1.5), (100.314575, 48.766636)], loss = 0.952897787094\n",
      "Before Clipping [(2.0, 1.5), (100.31481, 48.77177)], Rates [2, 133], b = 0.969757974148, accuracy = 0.48046875\n",
      "Step 47, struct params [(2.0, 1.5), (100.31481, 48.77177)], loss = 1.01354491711\n",
      "Before Clipping [(2.0, 1.5), (100.31527, 48.776314)], Rates [2, 116], b = 0.97336268425, accuracy = 0.4609375\n",
      "Step 48, struct params [(2.0, 1.5), (100.31527, 48.776314)], loss = 1.02085638046\n",
      "Before Clipping [(2.0, 1.5), (100.31604, 48.78059)], Rates [2, 74], b = 0.96533447504, accuracy = 0.50390625\n",
      "Step 49, struct params [(2.0, 1.5), (100.31604, 48.78059)], loss = 0.85591250658\n",
      "Before Clipping [(2.0, 1.5), (100.31669, 48.784542)], Rates [2, 134], b = 0.962765574455, accuracy = 0.51953125\n",
      "Step 50, struct params [(2.0, 1.5), (100.31669, 48.784542)], loss = 0.980046331882\n",
      "Before Clipping [(2.0, 1.5), (100.31248, 48.79811)], Rates [2, 131], b = 0.957168757915, accuracy = 0.515625\n",
      "Step 51, struct params [(2.0, 1.5), (100.31248, 48.79811)], loss = 0.911535263062\n",
      "Before Clipping [(2.0, 1.5), (100.30861, 48.810406)], Rates [2, 128], b = 0.948220849037, accuracy = 0.5078125\n",
      "Step 52, struct params [(2.0, 1.5), (100.30861, 48.810406)], loss = 0.859688520432\n",
      "Before Clipping [(2.0, 1.5), (100.30304, 48.824665)], Rates [3, 84], b = 0.948157966137, accuracy = 0.51171875\n",
      "Step 53, struct params [(2.0, 1.5), (100.30304, 48.824665)], loss = 0.942605793476\n",
      "Before Clipping [(2.0, 1.5), (100.298386, 48.838)], Rates [3, 87], b = 0.949400961399, accuracy = 0.44921875\n",
      "Step 54, struct params [(2.0, 1.5), (100.298386, 48.838)], loss = 0.938070654869\n",
      "Before Clipping [(2.0, 1.5), (100.29708, 48.850773)], Rates [1, 129], b = 0.925836026669, accuracy = 0.55078125\n",
      "Step 55, struct params [(2.0, 1.5), (100.29708, 48.850773)], loss = 0.800347924232\n",
      "Before Clipping [(2.0, 1.5), (100.295044, 48.862297)], Rates [2, 108], b = 0.928120315075, accuracy = 0.47265625\n",
      "Step 56, struct params [(2.0, 1.5), (100.295044, 48.862297)], loss = 0.866388857365\n",
      "Before Clipping [(2.0, 1.5), (100.29241, 48.872887)], Rates [1, 88], b = 0.925615668297, accuracy = 0.4765625\n",
      "Step 57, struct params [(2.0, 1.5), (100.29241, 48.872887)], loss = 0.971498429775\n",
      "Before Clipping [(2.0, 1.5), (100.29158, 48.88375)], Rates [3, 85], b = 0.923538804054, accuracy = 0.5078125\n",
      "Step 58, struct params [(2.0, 1.5), (100.29158, 48.88375)], loss = 0.95105189085\n",
      "Before Clipping [(2.0, 1.5), (100.2929, 48.897655)], Rates [2, 78], b = 0.919029891491, accuracy = 0.50390625\n",
      "Step 59, struct params [(2.0, 1.5), (100.2929, 48.897655)], loss = 0.907898783684\n",
      "Before Clipping [(2.0, 1.5), (100.2909, 48.913685)], Rates [2, 115], b = 0.906928181648, accuracy = 0.5078125\n",
      "Step 60, struct params [(2.0, 1.5), (100.2909, 48.913685)], loss = 0.799581408501\n",
      "Before Clipping [(2.0, 1.5), (100.29009, 48.928944)], Rates [2, 120], b = 0.895203769207, accuracy = 0.51171875\n",
      "Step 61, struct params [(2.0, 1.5), (100.29009, 48.928944)], loss = 0.855631887913\n",
      "Before Clipping [(2.0, 1.5), (100.289955, 48.94301)], Rates [2, 113], b = 0.895190656185, accuracy = 0.49609375\n",
      "Step 62, struct params [(2.0, 1.5), (100.289955, 48.94301)], loss = 0.860944211483\n",
      "Before Clipping [(2.0, 1.5), (100.29004, 48.955738)], Rates [1, 85], b = 0.897558808327, accuracy = 0.50390625\n",
      "Step 63, struct params [(2.0, 1.5), (100.29004, 48.955738)], loss = 0.792142152786\n",
      "Before Clipping [(2.0, 1.5), (100.29117, 48.96848)], Rates [3, 122], b = 0.889348447323, accuracy = 0.53515625\n",
      "Step 64, struct params [(2.0, 1.5), (100.29117, 48.96848)], loss = 0.882306277752\n",
      "Before Clipping [(2.0, 1.5), (100.291, 48.98051)], Rates [1, 98], b = 0.879397988319, accuracy = 0.5703125\n",
      "Step 65, struct params [(2.0, 1.5), (100.291, 48.98051)], loss = 0.872530758381\n",
      "Before Clipping [(2.0, 1.5), (100.291306, 48.99179)], Rates [1, 95], b = 0.871294379234, accuracy = 0.54296875\n",
      "Step 66, struct params [(2.0, 1.5), (100.291306, 48.99179)], loss = 0.869706869125\n",
      "Before Clipping [(2.0, 1.5), (100.30909, 48.965263)], Rates [2, 88], b = 0.878798544407, accuracy = 0.51953125\n",
      "Step 67, struct params [(2.0, 1.5), (100.30909, 48.965263)], loss = 0.866245865822\n",
      "Before Clipping [(2.0, 1.5), (100.3235, 48.939507)], Rates [3, 100], b = 0.879741251469, accuracy = 0.52734375\n",
      "Step 68, struct params [(2.0, 1.5), (100.3235, 48.939507)], loss = 0.896599709988\n",
      "Before Clipping [(2.0, 1.5), (100.33598, 48.915493)], Rates [2, 76], b = 0.880276799202, accuracy = 0.5078125\n",
      "Step 69, struct params [(2.0, 1.5), (100.33598, 48.915493)], loss = 0.826952397823\n",
      "Before Clipping [(2.0, 1.5), (100.3487, 48.89432)], Rates [2, 121], b = 0.87114149332, accuracy = 0.546875\n",
      "Step 70, struct params [(2.0, 1.5), (100.3487, 48.89432)], loss = 0.830497860909\n",
      "Before Clipping [(2.0, 1.5), (100.36137, 48.87411)], Rates [2, 132], b = 0.87029594183, accuracy = 0.51171875\n",
      "Step 71, struct params [(2.0, 1.5), (100.36137, 48.87411)], loss = 0.806708872318\n",
      "Before Clipping [(2.0, 1.5), (100.372475, 48.855946)], Rates [2, 116], b = 0.866333067417, accuracy = 0.5\n",
      "Step 72, struct params [(2.0, 1.5), (100.372475, 48.855946)], loss = 0.794574737549\n",
      "Before Clipping [(2.0, 1.5), (100.38258, 48.839516)], Rates [3, 70], b = 0.867453277111, accuracy = 0.51171875\n",
      "Step 73, struct params [(2.0, 1.5), (100.38258, 48.839516)], loss = 0.89002430439\n"
     ]
    },
    {
     "ename": "KeyboardInterrupt",
     "evalue": "",
     "output_type": "error",
     "traceback": [
      "\u001b[0;31m\u001b[0m",
      "\u001b[0;31mKeyboardInterrupt\u001b[0mTraceback (most recent call last)",
      "\u001b[0;32m<ipython-input-4-f19c9d1aa10f>\u001b[0m in \u001b[0;36m<module>\u001b[0;34m()\u001b[0m\n\u001b[1;32m      8\u001b[0m                      model.labels: seq[0,:,0]}\n\u001b[1;32m      9\u001b[0m         _, loss_value = sess.run([model.weights_train_op, model.loss_for_w], \n\u001b[0;32m---> 10\u001b[0;31m                                        feed_dict=feed_dict)\n\u001b[0m\u001b[1;32m     11\u001b[0m         \u001b[0;32massert\u001b[0m \u001b[0;32mnot\u001b[0m \u001b[0mnp\u001b[0m\u001b[0;34m.\u001b[0m\u001b[0misnan\u001b[0m\u001b[0;34m(\u001b[0m\u001b[0mloss_value\u001b[0m\u001b[0;34m)\u001b[0m\u001b[0;34m,\u001b[0m \u001b[0;34m'Model diverged with loss = NaN'\u001b[0m\u001b[0;34m\u001b[0m\u001b[0m\n\u001b[1;32m     12\u001b[0m \u001b[0;34m\u001b[0m\u001b[0m\n",
      "\u001b[0;32m/home/logos/envs/prob_dropout/local/lib/python2.7/site-packages/tensorflow/python/client/session.pyc\u001b[0m in \u001b[0;36mrun\u001b[0;34m(self, fetches, feed_dict, options, run_metadata)\u001b[0m\n\u001b[1;32m    887\u001b[0m     \u001b[0;32mtry\u001b[0m\u001b[0;34m:\u001b[0m\u001b[0;34m\u001b[0m\u001b[0m\n\u001b[1;32m    888\u001b[0m       result = self._run(None, fetches, feed_dict, options_ptr,\n\u001b[0;32m--> 889\u001b[0;31m                          run_metadata_ptr)\n\u001b[0m\u001b[1;32m    890\u001b[0m       \u001b[0;32mif\u001b[0m \u001b[0mrun_metadata\u001b[0m\u001b[0;34m:\u001b[0m\u001b[0;34m\u001b[0m\u001b[0m\n\u001b[1;32m    891\u001b[0m         \u001b[0mproto_data\u001b[0m \u001b[0;34m=\u001b[0m \u001b[0mtf_session\u001b[0m\u001b[0;34m.\u001b[0m\u001b[0mTF_GetBuffer\u001b[0m\u001b[0;34m(\u001b[0m\u001b[0mrun_metadata_ptr\u001b[0m\u001b[0;34m)\u001b[0m\u001b[0;34m\u001b[0m\u001b[0m\n",
      "\u001b[0;32m/home/logos/envs/prob_dropout/local/lib/python2.7/site-packages/tensorflow/python/client/session.pyc\u001b[0m in \u001b[0;36m_run\u001b[0;34m(self, handle, fetches, feed_dict, options, run_metadata)\u001b[0m\n\u001b[1;32m   1118\u001b[0m     \u001b[0;32mif\u001b[0m \u001b[0mfinal_fetches\u001b[0m \u001b[0;32mor\u001b[0m \u001b[0mfinal_targets\u001b[0m \u001b[0;32mor\u001b[0m \u001b[0;34m(\u001b[0m\u001b[0mhandle\u001b[0m \u001b[0;32mand\u001b[0m \u001b[0mfeed_dict_tensor\u001b[0m\u001b[0;34m)\u001b[0m\u001b[0;34m:\u001b[0m\u001b[0;34m\u001b[0m\u001b[0m\n\u001b[1;32m   1119\u001b[0m       results = self._do_run(handle, final_targets, final_fetches,\n\u001b[0;32m-> 1120\u001b[0;31m                              feed_dict_tensor, options, run_metadata)\n\u001b[0m\u001b[1;32m   1121\u001b[0m     \u001b[0;32melse\u001b[0m\u001b[0;34m:\u001b[0m\u001b[0;34m\u001b[0m\u001b[0m\n\u001b[1;32m   1122\u001b[0m       \u001b[0mresults\u001b[0m \u001b[0;34m=\u001b[0m \u001b[0;34m[\u001b[0m\u001b[0;34m]\u001b[0m\u001b[0;34m\u001b[0m\u001b[0m\n",
      "\u001b[0;32m/home/logos/envs/prob_dropout/local/lib/python2.7/site-packages/tensorflow/python/client/session.pyc\u001b[0m in \u001b[0;36m_do_run\u001b[0;34m(self, handle, target_list, fetch_list, feed_dict, options, run_metadata)\u001b[0m\n\u001b[1;32m   1315\u001b[0m     \u001b[0;32mif\u001b[0m \u001b[0mhandle\u001b[0m \u001b[0;32mis\u001b[0m \u001b[0mNone\u001b[0m\u001b[0;34m:\u001b[0m\u001b[0;34m\u001b[0m\u001b[0m\n\u001b[1;32m   1316\u001b[0m       return self._do_call(_run_fn, self._session, feeds, fetches, targets,\n\u001b[0;32m-> 1317\u001b[0;31m                            options, run_metadata)\n\u001b[0m\u001b[1;32m   1318\u001b[0m     \u001b[0;32melse\u001b[0m\u001b[0;34m:\u001b[0m\u001b[0;34m\u001b[0m\u001b[0m\n\u001b[1;32m   1319\u001b[0m       \u001b[0;32mreturn\u001b[0m \u001b[0mself\u001b[0m\u001b[0;34m.\u001b[0m\u001b[0m_do_call\u001b[0m\u001b[0;34m(\u001b[0m\u001b[0m_prun_fn\u001b[0m\u001b[0;34m,\u001b[0m \u001b[0mself\u001b[0m\u001b[0;34m.\u001b[0m\u001b[0m_session\u001b[0m\u001b[0;34m,\u001b[0m \u001b[0mhandle\u001b[0m\u001b[0;34m,\u001b[0m \u001b[0mfeeds\u001b[0m\u001b[0;34m,\u001b[0m \u001b[0mfetches\u001b[0m\u001b[0;34m)\u001b[0m\u001b[0;34m\u001b[0m\u001b[0m\n",
      "\u001b[0;32m/home/logos/envs/prob_dropout/local/lib/python2.7/site-packages/tensorflow/python/client/session.pyc\u001b[0m in \u001b[0;36m_do_call\u001b[0;34m(self, fn, *args)\u001b[0m\n\u001b[1;32m   1321\u001b[0m   \u001b[0;32mdef\u001b[0m \u001b[0m_do_call\u001b[0m\u001b[0;34m(\u001b[0m\u001b[0mself\u001b[0m\u001b[0;34m,\u001b[0m \u001b[0mfn\u001b[0m\u001b[0;34m,\u001b[0m \u001b[0;34m*\u001b[0m\u001b[0margs\u001b[0m\u001b[0;34m)\u001b[0m\u001b[0;34m:\u001b[0m\u001b[0;34m\u001b[0m\u001b[0m\n\u001b[1;32m   1322\u001b[0m     \u001b[0;32mtry\u001b[0m\u001b[0;34m:\u001b[0m\u001b[0;34m\u001b[0m\u001b[0m\n\u001b[0;32m-> 1323\u001b[0;31m       \u001b[0;32mreturn\u001b[0m \u001b[0mfn\u001b[0m\u001b[0;34m(\u001b[0m\u001b[0;34m*\u001b[0m\u001b[0margs\u001b[0m\u001b[0;34m)\u001b[0m\u001b[0;34m\u001b[0m\u001b[0m\n\u001b[0m\u001b[1;32m   1324\u001b[0m     \u001b[0;32mexcept\u001b[0m \u001b[0merrors\u001b[0m\u001b[0;34m.\u001b[0m\u001b[0mOpError\u001b[0m \u001b[0;32mas\u001b[0m \u001b[0me\u001b[0m\u001b[0;34m:\u001b[0m\u001b[0;34m\u001b[0m\u001b[0m\n\u001b[1;32m   1325\u001b[0m       \u001b[0mmessage\u001b[0m \u001b[0;34m=\u001b[0m \u001b[0mcompat\u001b[0m\u001b[0;34m.\u001b[0m\u001b[0mas_text\u001b[0m\u001b[0;34m(\u001b[0m\u001b[0me\u001b[0m\u001b[0;34m.\u001b[0m\u001b[0mmessage\u001b[0m\u001b[0;34m)\u001b[0m\u001b[0;34m\u001b[0m\u001b[0m\n",
      "\u001b[0;32m/home/logos/envs/prob_dropout/local/lib/python2.7/site-packages/tensorflow/python/client/session.pyc\u001b[0m in \u001b[0;36m_run_fn\u001b[0;34m(session, feed_dict, fetch_list, target_list, options, run_metadata)\u001b[0m\n\u001b[1;32m   1300\u001b[0m           return tf_session.TF_Run(session, options,\n\u001b[1;32m   1301\u001b[0m                                    \u001b[0mfeed_dict\u001b[0m\u001b[0;34m,\u001b[0m \u001b[0mfetch_list\u001b[0m\u001b[0;34m,\u001b[0m \u001b[0mtarget_list\u001b[0m\u001b[0;34m,\u001b[0m\u001b[0;34m\u001b[0m\u001b[0m\n\u001b[0;32m-> 1302\u001b[0;31m                                    status, run_metadata)\n\u001b[0m\u001b[1;32m   1303\u001b[0m \u001b[0;34m\u001b[0m\u001b[0m\n\u001b[1;32m   1304\u001b[0m     \u001b[0;32mdef\u001b[0m \u001b[0m_prun_fn\u001b[0m\u001b[0;34m(\u001b[0m\u001b[0msession\u001b[0m\u001b[0;34m,\u001b[0m \u001b[0mhandle\u001b[0m\u001b[0;34m,\u001b[0m \u001b[0mfeed_dict\u001b[0m\u001b[0;34m,\u001b[0m \u001b[0mfetch_list\u001b[0m\u001b[0;34m)\u001b[0m\u001b[0;34m:\u001b[0m\u001b[0;34m\u001b[0m\u001b[0m\n",
      "\u001b[0;31mKeyboardInterrupt\u001b[0m: "
     ]
    }
   ],
   "source": [
    "with tf.Session(config=sess_config) as sess:\n",
    "    # initialize all the parameters\n",
    "    sess.run(tf.global_variables_initializer())\n",
    "    \n",
    "    for step in range(1000):\n",
    "        seq = bernoulli.rvs(0.5, size=(1000,256,1))\n",
    "        feed_dict = {model.inputs: seq,\n",
    "                     model.labels: seq[0,:,0]}\n",
    "        _, loss_value = sess.run([model.weights_train_op, model.loss_for_w], \n",
    "                                       feed_dict=feed_dict)\n",
    "        assert not np.isnan(loss_value), 'Model diverged with loss = NaN'\n",
    "        \n",
    "        \n",
    "        sess.run(model.struct_train_op,\n",
    "                       feed_dict=feed_dict)\n",
    "        \n",
    "        struct_params, rates, b, accuracy = sess.run([model.struct_vars, model.rates, model.b, model.accuracy],\n",
    "                                                 feed_dict=feed_dict)\n",
    "        print('Before Clipping {}, Rates {}, b = {}, accuracy = {}'.format(struct_params, rates, b, accuracy))\n",
    "        \n",
    "        sess.run(model.struct_clip_op, feed_dict={model.inputs: seq})\n",
    "        \n",
    "        struct_params = sess.run(model.struct_vars)\n",
    "        print('Step {}, struct params {}, loss = {}'.format(step, struct_params, loss_value))"
   ]
  },
  {
   "cell_type": "code",
   "execution_count": null,
   "metadata": {},
   "outputs": [],
   "source": [
    "print(model.sess.run(tf.gradients(model.loss_for_pi, model.struct_vars[0]), feed_dict = feed_dict))"
   ]
  },
  {
   "cell_type": "code",
   "execution_count": null,
   "metadata": {},
   "outputs": [],
   "source": [
    "print model.sess.run(model.loss_per_example, feed_dict=feed_dict)"
   ]
  },
  {
   "cell_type": "code",
   "execution_count": null,
   "metadata": {},
   "outputs": [],
   "source": [
    "# build the network\n",
    "tf.reset_default_graph()\n",
    "inputs = tf.placeholder(tf.float32, shape = [None, None, 1], name = 'inputs')\n",
    "\n",
    "logits, structs, rates = build_pdrnn(x=inputs,\n",
    "                                     hidden_structs=[4]*3,\n",
    "                                     init_params=[(2.0,2.0),(2.0,2.0),(2.0,2.0)],\n",
    "                                     n_layers=3,\n",
    "                                     n_steps=20,\n",
    "                                     n_classes=2,\n",
    "                                     input_dims=1,\n",
    "                                     cell_type=\"RNN\")"
   ]
  },
  {
   "cell_type": "code",
   "execution_count": null,
   "metadata": {},
   "outputs": [],
   "source": [
    "a = tf.ones([10, 16])\n",
    "b = tf.split(a, [1]*10)\n",
    "\n",
    "print(b)"
   ]
  },
  {
   "cell_type": "code",
   "execution_count": null,
   "metadata": {},
   "outputs": [],
   "source": [
    "t = tf.constant([[1, 2, 3], [4, 5, 6]])\n",
    "paddings = tf.constant([[0, 0], [0, 3]])\n",
    "with tf.Session():\n",
    "    print tf.pad(t, paddings, constant_values=0.0).eval() "
   ]
  },
  {
   "cell_type": "code",
   "execution_count": 31,
   "metadata": {},
   "outputs": [],
   "source": [
    "tf.reset_default_graph()\n",
    "init_params=[(1.0,0.5),(2.0,2.0)]\n",
    "dilations = []\n",
    "for l in xrange(2):\n",
    "    with tf.variable_scope('struct_layer_{}'.format(l)):\n",
    "        mu = tf.get_variable('mu', initializer=tf.constant(init_params[l][0]))\n",
    "        sigma = tf.get_variable('sigma', initializer=tf.constant(init_params[l][1]))\n",
    "                \n",
    "    rates = tf.range(tf.ceil(tf.maximum(mu-sigma,0.5)), \n",
    "                     tf.ceil(tf.minimum(mu+sigma,20)))\n",
    "    probs = triangular_pmf(rates, mu, sigma, 20)\n",
    "    probs = tf.expand_dims(probs, 0)\n",
    "    idx = tf.multinomial(tf.log(probs), 1)\n",
    "    rates = tf.cast(rates, tf.int32)\n",
    "    dilations.append(rates[idx[0][0]])  "
   ]
  },
  {
   "cell_type": "code",
   "execution_count": 29,
   "metadata": {},
   "outputs": [
    {
     "name": "stdout",
     "output_type": "stream",
     "text": [
      "[[1.]]\n"
     ]
    }
   ],
   "source": [
    "with tf.Session() as sess:\n",
    "    sess.run(tf.global_variables_initializer())\n",
    "    print sess.run(probs)"
   ]
  },
  {
   "cell_type": "code",
   "execution_count": 33,
   "metadata": {},
   "outputs": [
    {
     "data": {
      "text/plain": [
       "[<tf.Variable 'struct_layer_1/mu:0' shape=() dtype=float32_ref>,\n",
       " <tf.Variable 'struct_layer_1/sigma:0' shape=() dtype=float32_ref>]"
      ]
     },
     "execution_count": 33,
     "metadata": {},
     "output_type": "execute_result"
    }
   ],
   "source": [
    "a=[v for v in tf.trainable_variables() if 'struct_layer' in v.name]\n",
    "a[2:]"
   ]
  },
  {
   "cell_type": "code",
   "execution_count": null,
   "metadata": {},
   "outputs": [],
   "source": [
    "from classification_models import drnn_classification, _contruct_cells\n",
    "from models import dRNN, multi_dRNN_with_dilations\n",
    "# build the network\n",
    "tf.reset_default_graph()\n",
    "\n",
    "dilations = []\n",
    "for l in xrange(3):\n",
    "    d = tf.placeholder_with_default(tf.constant(l+1), [])\n",
    "    dilations.append(d)\n",
    "\n",
    "inputs = tf.placeholder(tf.float32, shape = [None, None, 1], name = 'inputs')\n",
    "hidden_structs=[4]*3\n",
    "\n",
    "# construct a list of cells\n",
    "cells = _contruct_cells(hidden_structs=hidden_structs, cell_type='LSTM')\n",
    "\n",
    "logits = multi_dRNN_with_dilations(cells, inputs, hidden_structs, dilations)\n",
    "#logits = dRNN(cells[0], inputs, dilations[0], 1, scope='default')"
   ]
  },
  {
   "cell_type": "code",
   "execution_count": null,
   "metadata": {},
   "outputs": [],
   "source": [
    "with tf.Session() as sess:\n",
    "    sess.run(tf.global_variables_initializer())\n",
    "    pred = sess.run(logits, feed_dict={inputs: np.random.uniform(size=[25,33,1])})\n",
    "    print pred.shape"
   ]
  }
 ],
 "metadata": {
  "kernelspec": {
   "display_name": "Python 2",
   "language": "python",
   "name": "python2"
  },
  "language_info": {
   "codemirror_mode": {
    "name": "ipython",
    "version": 2
   },
   "file_extension": ".py",
   "mimetype": "text/x-python",
   "name": "python",
   "nbconvert_exporter": "python",
   "pygments_lexer": "ipython2",
   "version": "2.7.6"
  }
 },
 "nbformat": 4,
 "nbformat_minor": 2
}
