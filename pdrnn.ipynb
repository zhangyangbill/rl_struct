{
 "cells": [
  {
   "cell_type": "code",
   "execution_count": 1,
   "metadata": {},
   "outputs": [],
   "source": [
    "%load_ext autoreload\n",
    "%autoreload 2\n",
    "import os\n",
    "os.environ[\"CUDA_DEVICE_ORDER\"]=\"PCI_BUS_ID\"\n",
    "os.environ[\"CUDA_VISIBLE_DEVICES\"]=\"1\"\n",
    "#from tensorflow.python.client import device_lib\n",
    "#print device_lib.list_local_devices()"
   ]
  },
  {
   "cell_type": "code",
   "execution_count": 2,
   "metadata": {},
   "outputs": [
    {
     "name": "stderr",
     "output_type": "stream",
     "text": [
      "/home/logos/envs/prob_dropout/local/lib/python2.7/site-packages/h5py/__init__.py:36: FutureWarning: Conversion of the second argument of issubdtype from `float` to `np.floating` is deprecated. In future, it will be treated as `np.float64 == np.dtype(float).type`.\n",
      "  from ._conv import register_converters as _register_converters\n"
     ]
    }
   ],
   "source": [
    "import tensorflow as tf\n",
    "import numpy as np\n",
    "from pdrnn import triangular_pmf, build_pdrnn\n",
    "from StochasticDilateNet import StochasticDilateNet\n",
    "from scipy.stats import bernoulli\n",
    "import hdf5storage as hdst\n",
    "from time import clock"
   ]
  },
  {
   "cell_type": "code",
   "execution_count": null,
   "metadata": {},
   "outputs": [],
   "source": [
    "batch_size = 64\n",
    "head = np.random.randint(1, 8, size=(10,batch_size,1))\n",
    "body = np.full([499,batch_size,1], 8)\n",
    "tail = np.full([11,batch_size,1], 9)\n",
    "seq = np.concatenate((head, body, tail), axis=0)\n",
    "hdst.savemat('/mnt/hdd1/kqian3/rl_struct/seq',{'seq':seq})"
   ]
  },
  {
   "cell_type": "code",
   "execution_count": 3,
   "metadata": {},
   "outputs": [],
   "source": [
    "data = hdst.loadmat('/mnt/hdd1/kqian3/rl_struct/seq')\n",
    "seq = data['seq']"
   ]
  },
  {
   "cell_type": "code",
   "execution_count": 6,
   "metadata": {},
   "outputs": [],
   "source": [
    "tf.reset_default_graph()\n",
    "n_layers = 4\n",
    "hidden_structs = [10]*n_layers\n",
    "init_params = [(1.0,0.5),(2.0,0.5),(4.0,0.5),(150.0,50.0)]\n",
    "lambda_b = 0.9\n",
    "model = StochasticDilateNet(hidden_structs,\n",
    "                            init_params,\n",
    "                            n_layers=n_layers,\n",
    "                            n_classes=8,\n",
    "                            input_dims=1,\n",
    "                            cell_type=\"RNN\")\n",
    "# define session\n",
    "sess_config = tf.ConfigProto(allow_soft_placement=True,\n",
    "                             log_device_placement=False,\n",
    "                             intra_op_parallelism_threads=20,\n",
    "                             inter_op_parallelism_threads=4)\n",
    "sess_config.gpu_options.allow_growth = True"
   ]
  },
  {
   "cell_type": "code",
   "execution_count": null,
   "metadata": {},
   "outputs": [],
   "source": [
    "model.struct_param"
   ]
  },
  {
   "cell_type": "code",
   "execution_count": 15,
   "metadata": {
    "scrolled": true
   },
   "outputs": [
    {
     "name": "stdout",
     "output_type": "stream",
     "text": [
      "Step 0, rates = [1, 2, 4, array(85, dtype=int32)], loss = 2.10063195229, accuracy = 0.125\n",
      "Step 10, rates = [1, 2, 4, array(85, dtype=int32)], loss = 2.04335236549, accuracy = 0.13750000298\n",
      "Step 20, rates = [1, 2, 4, array(85, dtype=int32)], loss = 2.01467895508, accuracy = 0.12187500298\n",
      "Step 30, rates = [1, 2, 4, array(85, dtype=int32)], loss = 1.99414610863, accuracy = 0.13750000298\n",
      "Step 40, rates = [1, 2, 4, array(85, dtype=int32)], loss = 1.9794151783, accuracy = 0.13750000298\n",
      "Step 50, rates = [1, 2, 4, array(85, dtype=int32)], loss = 1.96907830238, accuracy = 0.18125000596\n",
      "Step 60, rates = [1, 2, 4, array(85, dtype=int32)], loss = 1.96205496788, accuracy = 0.18125000596\n",
      "Step 70, rates = [1, 2, 4, array(85, dtype=int32)], loss = 1.95669436455, accuracy = 0.18125000596\n",
      "Step 80, rates = [1, 2, 4, array(85, dtype=int32)], loss = 1.95083618164, accuracy = 0.18125000596\n",
      "Step 90, rates = [1, 2, 4, array(85, dtype=int32)], loss = 1.93932628632, accuracy = 0.18125000596\n",
      "Step 100, rates = [1, 2, 4, array(85, dtype=int32)], loss = 1.90805125237, accuracy = 0.18125000596\n",
      "Step 110, rates = [1, 2, 4, array(85, dtype=int32)], loss = 1.84934353828, accuracy = 0.254687488079\n",
      "Step 120, rates = [1, 2, 4, array(85, dtype=int32)], loss = 1.77760386467, accuracy = 0.315625011921\n",
      "Step 130, rates = [1, 2, 4, array(85, dtype=int32)], loss = 1.70691084862, accuracy = 0.340624988079\n",
      "Step 140, rates = [1, 2, 4, array(85, dtype=int32)], loss = 1.64261972904, accuracy = 0.25624999404\n",
      "Step 150, rates = [1, 2, 4, array(85, dtype=int32)], loss = 1.58494508266, accuracy = 0.27187499404\n",
      "Step 160, rates = [1, 2, 4, array(85, dtype=int32)], loss = 1.52590000629, accuracy = 0.28125\n",
      "Step 170, rates = [1, 2, 4, array(85, dtype=int32)], loss = 1.47550225258, accuracy = 0.2890625\n",
      "Step 180, rates = [1, 2, 4, array(85, dtype=int32)], loss = 1.42800891399, accuracy = 0.323437511921\n",
      "Step 190, rates = [1, 2, 4, array(85, dtype=int32)], loss = 1.38717508316, accuracy = 0.323437511921\n",
      "Step 200, rates = [1, 2, 4, array(85, dtype=int32)], loss = 1.35400557518, accuracy = 0.44374999404\n",
      "Step 210, rates = [1, 2, 4, array(85, dtype=int32)], loss = 1.32440710068, accuracy = 0.409375011921\n",
      "Step 220, rates = [1, 2, 4, array(85, dtype=int32)], loss = 1.29529500008, accuracy = 0.496874988079\n",
      "Step 230, rates = [1, 2, 4, array(85, dtype=int32)], loss = 1.26344370842, accuracy = 0.587499976158\n",
      "Step 240, rates = [1, 2, 4, array(85, dtype=int32)], loss = 1.22409665585, accuracy = 0.504687488079\n",
      "Step 250, rates = [1, 2, 4, array(85, dtype=int32)], loss = 1.17511963844, accuracy = 0.545312523842\n",
      "Step 260, rates = [1, 2, 4, array(85, dtype=int32)], loss = 1.12078869343, accuracy = 0.584375023842\n",
      "Step 270, rates = [1, 2, 4, array(85, dtype=int32)], loss = 1.06462419033, accuracy = 0.595312476158\n",
      "Step 280, rates = [1, 2, 4, array(85, dtype=int32)], loss = 1.01141119003, accuracy = 0.595312476158\n",
      "Step 290, rates = [1, 2, 4, array(85, dtype=int32)], loss = 0.965417027473, accuracy = 0.595312476158\n",
      "Step 300, rates = [1, 2, 4, array(85, dtype=int32)], loss = 0.926384806633, accuracy = 0.595312476158\n",
      "Step 310, rates = [1, 2, 4, array(85, dtype=int32)], loss = 0.892866253853, accuracy = 0.595312476158\n",
      "Step 320, rates = [1, 2, 4, array(85, dtype=int32)], loss = 0.863092601299, accuracy = 0.673437476158\n",
      "Step 330, rates = [1, 2, 4, array(85, dtype=int32)], loss = 0.834824562073, accuracy = 0.704687476158\n",
      "Step 340, rates = [1, 2, 4, array(85, dtype=int32)], loss = 0.804979145527, accuracy = 0.7109375\n",
      "Step 350, rates = [1, 2, 4, array(85, dtype=int32)], loss = 0.771340429783, accuracy = 0.71875\n",
      "Step 360, rates = [1, 2, 4, array(85, dtype=int32)], loss = 0.734893679619, accuracy = 0.8515625\n",
      "Step 370, rates = [1, 2, 4, array(85, dtype=int32)], loss = 0.700787127018, accuracy = 0.901562511921\n",
      "Step 380, rates = [1, 2, 4, array(85, dtype=int32)], loss = 0.67086905241, accuracy = 0.879687488079\n",
      "Step 390, rates = [1, 2, 4, array(85, dtype=int32)], loss = 0.641589343548, accuracy = 0.8671875\n",
      "Step 400, rates = [1, 2, 4, array(85, dtype=int32)], loss = 0.615198254585, accuracy = 0.864062488079\n",
      "Step 410, rates = [1, 2, 4, array(85, dtype=int32)], loss = 0.590591609478, accuracy = 0.862500011921\n",
      "Step 420, rates = [1, 2, 4, array(85, dtype=int32)], loss = 0.567827999592, accuracy = 0.862500011921\n",
      "Step 430, rates = [1, 2, 4, array(85, dtype=int32)], loss = 0.546698212624, accuracy = 0.862500011921\n",
      "Step 440, rates = [1, 2, 4, array(85, dtype=int32)], loss = 0.527169883251, accuracy = 0.862500011921\n",
      "Step 450, rates = [1, 2, 4, array(85, dtype=int32)], loss = 0.509101092815, accuracy = 0.862500011921\n",
      "Step 460, rates = [1, 2, 4, array(85, dtype=int32)], loss = 0.492357641459, accuracy = 0.862500011921\n",
      "Step 470, rates = [1, 2, 4, array(85, dtype=int32)], loss = 0.476826578379, accuracy = 0.862500011921\n",
      "Step 480, rates = [1, 2, 4, array(85, dtype=int32)], loss = 0.46238976717, accuracy = 0.862500011921\n",
      "Step 490, rates = [1, 2, 4, array(85, dtype=int32)], loss = 0.448949962854, accuracy = 0.862500011921\n",
      "308.468808\n"
     ]
    }
   ],
   "source": [
    "try:\n",
    "    sess.close()\n",
    "except:\n",
    "    pass\n",
    "    \n",
    "sess = tf.Session(config=sess_config)\n",
    "# initialize all the parameters\n",
    "sess.run(tf.global_variables_initializer())\n",
    "\n",
    "start = clock()\n",
    "for step in range(500):\n",
    "    \n",
    "    feed_dict = {model.inputs: seq,\n",
    "                 model.labels: np.transpose(seq[0:10,:,0],[1,0]),\n",
    "                 model.rates[-1]: 85}\n",
    "    _, loss_value, rates, accuracy = sess.run([model.weights_train_op, model.loss_for_w, model.rates, model.accuracy], \n",
    "                                   feed_dict=feed_dict)\n",
    "    loss_value = sess.run(model.loss_for_w, feed_dict=feed_dict)\n",
    "    assert not np.isnan(loss_value), 'Model diverged with loss = NaN'\n",
    "    \n",
    "    if step % 10 == 0:\n",
    "        model.saver_for_w.save(sess, \"{}model\".format('/mnt/hdd1/kqian3/rl_struct/'), global_step=step)\n",
    "        print('Step {}, rates = {}, loss = {}, accuracy = {}'.format(step, rates, loss_value, accuracy))\n",
    "print clock()-start        "
   ]
  },
  {
   "cell_type": "code",
   "execution_count": null,
   "metadata": {},
   "outputs": [],
   "source": [
    "loss.append(1.89209055901)"
   ]
  },
  {
   "cell_type": "code",
   "execution_count": null,
   "metadata": {
    "scrolled": true
   },
   "outputs": [],
   "source": [
    "#sess.close()\n",
    "feed_dict = {model.inputs: seq,\n",
    "                 model.labels: np.transpose(seq[0:10,:,0],[1,0])}\n",
    "print sess.run(model.loss_per_example, feed_dict=feed_dict)"
   ]
  },
  {
   "cell_type": "code",
   "execution_count": null,
   "metadata": {},
   "outputs": [],
   "source": [
    "with tf.Session(config=sess_config) as sess:\n",
    "    # initialize all the parameters\n",
    "    sess.run(tf.global_variables_initializer())\n",
    "    \n",
    "    model.saver_for_w.restore(sess, \"{}model-100\".format('/mnt/hdd1/kqian3/rl_struct/'))\n",
    "    \n",
    "    \n",
    "    for step in range(1000):\n",
    "        #seq = bernoulli.rvs(0.5, size=(100,32,1))\n",
    "        feed_dict = {model.inputs: seq,\n",
    "                     model.labels: seq[0,:,0]}     \n",
    "        \n",
    "        if np.mod(step, 10) < 5:\n",
    "            _, loss_value = sess.run([model.weights_train_op, model.loss_for_w], \n",
    "                                     feed_dict=feed_dict)\n",
    "        else:\n",
    "            sess.run(model.struct_train_op, feed_dict=feed_dict)\n",
    "        \n",
    "        \n",
    "        if step == 0:\n",
    "            sess.run(tf.assign(model.b, loss_value))\n",
    "        else:\n",
    "            sess.run(tf.assign(model.b, (lambda_b*model.b+(1-lambda_b)*loss_value)))\n",
    "        \n",
    "        if step % 10 == 0:\n",
    "            struct_params, rates, b, accuracy = \\\n",
    "            sess.run([model.struct_vars, model.rates, model.b, model.accuracy],\n",
    "                    feed_dict=feed_dict)\n",
    "            print('Step {}, struct params {},\\n Rates {}, b = {}, accuracy = {}'.format(\n",
    "                step, struct_params, rates, b, accuracy))\n",
    "            \n",
    "            #sess.run(model.struct_clip_op, feed_dict={model.inputs: seq})\n",
    "            #struct_params = sess.run(model.struct_vars)\n",
    "            #\n",
    "            #print('After clip, struct params {}'.format(struct_params))"
   ]
  },
  {
   "cell_type": "code",
   "execution_count": null,
   "metadata": {
    "scrolled": true
   },
   "outputs": [
    {
     "name": "stdout",
     "output_type": "stream",
     "text": [
      "Step 399, struct params [(1.0, 0.5), (2.0, 0.5), (4.0, 0.5), (150.0, 50.0)],\n",
      " Rates [1, 2, 4, 128], b = 0.0, loss = 1.88026881218, accuracy = 0.22812500596\n",
      "Step 799, struct params [(1.0, 0.5), (2.0, 0.5), (4.0, 0.5), (150.0, 50.0)],\n",
      " Rates [1, 2, 4, 171], b = 1.88026881218, loss = 1.81796133518, accuracy = 0.21406249702\n",
      "Step 1199, struct params [(1.0, 1.0), (2.0, 1.0), (4.0, 1.0), (150.06873, 49.988342)],\n",
      " Rates [1, 2, 4, 168], b = 1.87403798103, loss = 0.646810114384, accuracy = 0.746874988079\n",
      "Step 1599, struct params [(1.0, 1.0), (2.0, 1.0), (4.0, 1.0), (151.27052, 49.646088)],\n",
      " Rates [1, 2, 4, 126], b = 1.75131523609, loss = 0.35119253397, accuracy = 0.879687488079\n",
      "Step 1999, struct params [(1.0, 1.0), (2.0, 1.0), (4.0, 1.0), (149.51295, 49.68403)],\n",
      " Rates [1, 2, 4, 163], b = 1.61130297184, loss = 1.8165050745, accuracy = 0.25156250596\n",
      "Step 2399, struct params [(1.0, 1.0), (2.0, 1.0), (4.0, 1.0), (149.33778, 49.76759)],\n",
      " Rates [1, 2, 4, 137], b = 1.63182318211, loss = 1.93762934208, accuracy = 0.18125000596\n",
      "Step 2799, struct params [(1.0, 1.0), (2.0, 1.0), (4.0, 1.0), (149.59015, 49.899582)],\n",
      " Rates [1, 2, 4, 149], b = 1.66240370274, loss = 1.93542361259, accuracy = 0.17812499404\n",
      "Step 3199, struct params [(1.0, 1.0), (2.0, 1.0), (4.0, 1.0), (149.76115, 50.071083)],\n",
      " Rates [1, 2, 4, 157], b = 1.68970561028, loss = 1.93393075466, accuracy = 0.19687500596\n",
      "Step 3599, struct params [(1.0, 1.0), (2.0, 1.0), (4.0, 1.0), (149.58508, 50.1987)],\n",
      " Rates [1, 2, 4, 132], b = 1.71412813663, loss = 1.93298912048, accuracy = 0.19687500596\n",
      "Step 3999, struct params [(1.0, 1.0), (2.0, 1.0), (4.0, 1.0), (149.79227, 50.261086)],\n",
      " Rates [1, 2, 4, 145], b = 1.73601424694, loss = 1.93233048916, accuracy = 0.19687500596\n",
      "Step 4399, struct params [(1.0, 1.0), (2.0, 1.0), (4.0, 1.0), (149.92795, 50.372646)],\n",
      " Rates [1, 2, 4, 158], b = 1.75564575195, loss = 1.93793606758, accuracy = 0.18125000596\n",
      "Step 4799, struct params [(1.0, 1.0), (2.0, 1.0), (4.0, 1.0), (149.79715, 50.46571)],\n",
      " Rates [1, 2, 4, 152], b = 1.77387475967, loss = 1.93745076656, accuracy = 0.18125000596\n",
      "Step 5199, struct params [(1.0, 1.0), (2.0, 1.0), (4.0, 1.0), (149.69452, 50.563557)],\n",
      " Rates [1, 2, 4, 144], b = 1.79023241997, loss = 1.9361436367, accuracy = 0.18125000596\n",
      "Step 5599, struct params [(1.0, 1.0), (2.0, 1.0), (4.0, 1.0), (149.79665, 50.642914)],\n",
      " Rates [1, 2, 4, 196], b = 1.8048235178, loss = 1.93707466125, accuracy = 0.18125000596\n",
      "Step 5999, struct params [(1.0, 1.0), (2.0, 1.0), (4.0, 1.0), (148.88264, 49.868813)],\n",
      " Rates [1, 2, 4, 155], b = 1.81804859638, loss = 1.93820381165, accuracy = 0.18125000596\n",
      "Step 6399, struct params [(1.0, 1.0), (2.0, 1.0), (4.0, 1.0), (148.79973, 49.932957)],\n",
      " Rates [1, 2, 4, 158], b = 1.8300640583, loss = 1.938164711, accuracy = 0.18125000596\n",
      "Step 6799, struct params [(1.0, 1.0), (2.0, 1.0), (4.0, 1.0), (148.71817, 49.985916)],\n",
      " Rates [1, 2, 4, 179], b = 1.84087407589, loss = 1.93823623657, accuracy = 0.18125000596\n",
      "Step 7199, struct params [(1.0, 1.0), (2.0, 1.0), (4.0, 1.0), (148.56633, 49.953022)],\n",
      " Rates [1, 2, 4, 135], b = 1.8506102562, loss = 1.938195467, accuracy = 0.18125000596\n",
      "Step 7599, struct params [(1.0, 1.0), (2.0, 1.0), (4.0, 1.0), (148.6403, 49.987755)],\n",
      " Rates [1, 2, 4, 164], b = 1.85936868191, loss = 1.93814969063, accuracy = 0.18125000596\n",
      "Step 7999, struct params [(1.0, 1.0), (2.0, 1.0), (4.0, 1.0), (148.57039, 50.015396)],\n",
      " Rates [1, 2, 4, 119], b = 1.86724674702, loss = 1.93817007542, accuracy = 0.18125000596\n",
      "Step 8399, struct params [(1.0, 1.0), (2.0, 1.0), (4.0, 1.0), (148.67699, 49.995438)],\n",
      " Rates [1, 2, 4, 132], b = 1.8743391037, loss = 1.93815135956, accuracy = 0.18125000596\n",
      "Step 8799, struct params [(1.0, 1.0), (2.0, 1.0), (4.0, 1.0), (148.73584, 50.01552)],\n",
      " Rates [1, 2, 4, 162], b = 1.88072025776, loss = 1.938113451, accuracy = 0.18125000596\n",
      "Step 9199, struct params [(1.0, 1.0), (2.0, 1.0), (4.0, 1.0), (148.68785, 50.03859)],\n",
      " Rates [1, 2, 4, 148], b = 1.8864594698, loss = 1.93802297115, accuracy = 0.18125000596\n",
      "Step 9599, struct params [(1.0, 1.0), (2.0, 1.0), (4.0, 1.0), (148.71996, 50.070538)],\n",
      " Rates [1, 2, 4, 148], b = 1.89161586761, loss = 1.93753051758, accuracy = 0.18125000596\n",
      "Step 9999, struct params [(1.0, 1.0), (2.0, 1.0), (4.0, 1.0), (148.74854, 50.09891)],\n",
      " Rates [1, 2, 4, 144], b = 1.8962072134, loss = 1.93260133266, accuracy = 0.19687500596\n",
      "Step 10399, struct params [(1.0, 1.0), (2.0, 1.0), (4.0, 1.0), (148.7732, 50.1193)],\n",
      " Rates [1, 2, 4, 160], b = 1.8998465538, loss = 0.498329937458, accuracy = 0.889062523842\n",
      "Step 10799, struct params [(1.0, 1.0), (2.0, 1.0), (4.0, 1.0), (149.87369, 49.498306)],\n",
      " Rates [1, 2, 4, 151], b = 1.75969481468, loss = 1.52903151512, accuracy = 0.317187488079\n",
      "Step 11199, struct params [(1.0, 1.0), (2.0, 1.0), (4.0, 1.0), (150.01642, 49.355278)],\n",
      " Rates [1, 2, 4, 139], b = 1.73662853241, loss = 1.34512269497, accuracy = 0.42343750596\n",
      "Step 11599, struct params [(1.0, 1.0), (2.0, 1.0), (4.0, 1.0), (149.70964, 49.17624)],\n",
      " Rates [1, 2, 4, 157], b = 1.69747793674, loss = 1.93440055847, accuracy = 0.18125000596\n",
      "Step 11999, struct params [(1.0, 1.0), (2.0, 1.0), (4.0, 1.0), (149.53702, 49.30018)],\n",
      " Rates [1, 2, 4, 130], b = 1.721170187, loss = 1.93658947945, accuracy = 0.18125000596\n",
      "Step 12399, struct params [(1.0, 1.0), (2.0, 1.0), (4.0, 1.0), (149.75784, 49.345684)],\n",
      " Rates [1, 2, 4, 148], b = 1.74271202087, loss = 1.93580794334, accuracy = 0.18125000596\n",
      "Step 12799, struct params [(1.0, 1.0), (2.0, 1.0), (4.0, 1.0), (149.88405, 49.464848)],\n",
      " Rates [1, 2, 4, 192], b = 1.7620215416, loss = 1.93713831902, accuracy = 0.18125000596\n",
      "Step 13199, struct params [(1.0, 1.0), (2.0, 1.0), (4.0, 1.0), (149.16118, 48.939556)],\n",
      " Rates [1, 2, 4, 165], b = 1.77953314781, loss = 1.08773159981, accuracy = 0.526562511921\n",
      "Step 13599, struct params [(1.0, 1.0), (2.0, 1.0), (4.0, 1.0), (149.79582, 48.707253)],\n",
      " Rates [1, 2, 4, 120], b = 1.71035289764, loss = 0.588685274124, accuracy = 0.875\n",
      "Step 13999, struct params [(1.0, 1.0), (2.0, 1.0), (4.0, 1.0), (148.00961, 49.128723)],\n",
      " Rates [1, 2, 4, 160], b = 1.59818613529, loss = 0.370733439922, accuracy = 0.975000023842\n",
      "Step 14399, struct params [(1.0, 1.0), (2.0, 1.0), (4.0, 1.0), (149.00728, 48.58761)],\n",
      " Rates [1, 2, 4, 140], b = 1.47544085979, loss = 1.84835588932, accuracy = 0.22499999404\n",
      "Step 14799, struct params [(1.0, 1.0), (2.0, 1.0), (4.0, 1.0), (149.28258, 48.772163)],\n",
      " Rates [1, 2, 4, 139], b = 1.51273226738, loss = 1.93704676628, accuracy = 0.18125000596\n",
      "Step 15199, struct params [(1.0, 1.0), (2.0, 1.0), (4.0, 1.0), (149.61, 48.97414)],\n",
      " Rates [1, 2, 4, 121], b = 1.55516374111, loss = 0.689619541168, accuracy = 0.8203125\n",
      "Step 15599, struct params [(1.0, 1.0), (2.0, 1.0), (4.0, 1.0), (148.35754, 49.19734)],\n",
      " Rates [1, 2, 4, 128], b = 1.46860933304, loss = 1.89244997501, accuracy = 0.23281249404\n",
      "Step 15999, struct params [(1.0, 1.0), (2.0, 1.0), (4.0, 1.0), (148.7902, 49.274418)],\n",
      " Rates [1, 2, 4, 140], b = 1.51099336147, loss = 0.419790923595, accuracy = 0.942187488079\n",
      "Step 16399, struct params [(1.0, 1.0), (2.0, 1.0), (4.0, 1.0), (147.98607, 48.726772)],\n",
      " Rates [1, 2, 4, 164], b = 1.40187311172, loss = 0.871153533459, accuracy = 0.699999988079\n",
      "Step 16799, struct params [(1.0, 1.0), (2.0, 1.0), (4.0, 1.0), (148.45506, 48.55642)],\n",
      " Rates [1, 2, 4, 127], b = 1.34880113602, loss = 1.3661698103, accuracy = 0.44687500596\n",
      "Step 17199, struct params [(1.0, 1.0), (2.0, 1.0), (4.0, 1.0), (148.47385, 48.558952)],\n",
      " Rates [1, 2, 4, 148], b = 1.35053789616, loss = 1.93844985962, accuracy = 0.18125000596\n"
     ]
    }
   ],
   "source": [
    "with tf.Session(config=sess_config) as sess:\n",
    "    # initialize all the parameters\n",
    "    sess.run(tf.global_variables_initializer())\n",
    "    \n",
    "    #model.saver_for_w.restore(sess, \"{}model-100\".format('/mnt/hdd1/kqian3/rl_struct/'))\n",
    "    \n",
    "    num_w_op = 400\n",
    "    feed_dict_pi = {model.inputs: seq,\n",
    "                    model.labels: np.transpose(seq[0:10,:,0],[1,0]),}\n",
    "    for step in range(20000):\n",
    "        #seq = bernoulli.rvs(0.5, size=(100,32,1))        \n",
    "        \n",
    "        if step % num_w_op == 0:\n",
    "            if step >= 2*num_w_op:\n",
    "                sess.run(model.struct_train_op, feed_dict=feed_dict_w)\n",
    "                sess.run(model.struct_clip_op, feed_dict=feed_dict_w)\n",
    "            \n",
    "            if step != 0:\n",
    "                loss_ = sess.run(model.loss_for_w, feed_dict=feed_dict_w)\n",
    "                if step == num_w_op:\n",
    "                    sess.run(tf.assign(model.b, loss_))\n",
    "                else:\n",
    "                    sess.run(tf.assign(model.b, (lambda_b*model.b+(1-lambda_b)*loss_)))\n",
    "                \n",
    "            rates = sess.run(model.rates, feed_dict=feed_dict_pi)\n",
    "            \n",
    "        feed_dict_w = {model.inputs: seq,\n",
    "                       model.labels: np.transpose(seq[0:10,:,0],[1,0]),\n",
    "                       model.rates[-1]: rates[-1]}    \n",
    "            \n",
    "        sess.run(model.weights_train_op, feed_dict=feed_dict_w)\n",
    "        \n",
    "        if step % num_w_op == num_w_op-1:\n",
    "            struct_params, b, loss_value, accuracy = \\\n",
    "            sess.run([model.struct_vars, model.b, model.loss_for_w, model.accuracy],\n",
    "                    feed_dict=feed_dict_w)\n",
    "            print('Step {}, struct params {},\\n Rates {}, b = {}, loss = {}, accuracy = {}'.format(\n",
    "                step, struct_params, rates, b, loss_value, accuracy))\n",
    "            \n",
    "            #sess.run(model.struct_clip_op, feed_dict={model.inputs: seq})\n",
    "            #struct_params = sess.run(model.struct_vars)\n",
    "            #\n",
    "            #print('After clip, struct params {}'.format(struct_params))"
   ]
  },
  {
   "cell_type": "code",
   "execution_count": null,
   "metadata": {
    "scrolled": true
   },
   "outputs": [],
   "source": [
    "#loss = []\n",
    "for rate in range(0,525,5):\n",
    "    if rate == 0: rate = 1\n",
    "    with tf.Session(config=sess_config) as sess:\n",
    "        # initialize all the parameters\n",
    "        sess.run(tf.global_variables_initializer())\n",
    "        \n",
    "        for step in range(500):\n",
    "            feed_dict = {model.inputs: seq,\n",
    "                         model.labels: np.transpose(seq[0:10,:,0],[1,0]),\n",
    "                         model.rates[-1]: rate}\n",
    "            sess.run(model.weights_train_op, feed_dict=feed_dict)\n",
    "                    \n",
    "        loss_value = sess.run(model.loss_for_w, feed_dict=feed_dict)\n",
    "        assert not np.isnan(loss_value), 'Model diverged with loss = NaN'\n",
    "        #loss.append(loss_value)\n",
    "        print 'Rate = {}, loss = {}'.format(rate, loss_value)    "
   ]
  },
  {
   "cell_type": "code",
   "execution_count": null,
   "metadata": {},
   "outputs": [],
   "source": [
    "import matplotlib.pyplot as plt\n",
    "plt.plot(np.array(loss))\n",
    "plt.show()"
   ]
  },
  {
   "cell_type": "code",
   "execution_count": null,
   "metadata": {},
   "outputs": [],
   "source": [
    "hdst.savemat('/mnt/hdd1/kqian3/rl_struct/loss1_1',{'loss':np.array(loss)})"
   ]
  },
  {
   "cell_type": "code",
   "execution_count": null,
   "metadata": {},
   "outputs": [],
   "source": [
    "print feed_dict_w[model.rates[-1]]\n",
    "feed_dict_w[model.b] = 1.3\n",
    "with tf.Session() as sess:\n",
    "    # initialize all the parameters\n",
    "    sess.run(tf.global_variables_initializer())\n",
    "    \n",
    "    model.saver_for_w.restore(sess, \"{}model-100\".format('/mnt/hdd1/kqian3/rl_struct/'))\n",
    "    \n",
    "    print sess.run(model.loss_per_example, feed_dict = feed_dict_w)\n",
    "    print sess.run(model.b, feed_dict = feed_dict_w)\n",
    "    print sess.run(model.struct_param, feed_dict = feed_dict_w)\n",
    "    \n",
    "    print sess.run(tf.gradients(model.loss_for_pi, model.struct_param), feed_dict = feed_dict_w)"
   ]
  },
  {
   "cell_type": "code",
   "execution_count": null,
   "metadata": {},
   "outputs": [],
   "source": [
    "with tf.Session() as sess:\n",
    "    sess.run(tf.global_variables_initializer())\n",
    "    print(sess.run(tf.gradients(model.loss_for_pi, model.struct_vars[1]), feed_dict = feed_dict))"
   ]
  },
  {
   "cell_type": "code",
   "execution_count": null,
   "metadata": {},
   "outputs": [],
   "source": [
    "print model.sess.run(model.loss_per_example, feed_dict=feed_dict)"
   ]
  },
  {
   "cell_type": "code",
   "execution_count": null,
   "metadata": {},
   "outputs": [],
   "source": [
    "# build the network\n",
    "tf.reset_default_graph()\n",
    "inputs = tf.placeholder(tf.float32, shape = [None, None, 1], name = 'inputs')\n",
    "\n",
    "logits, structs, rates = build_pdrnn(x=inputs,\n",
    "                                     hidden_structs=[4]*3,\n",
    "                                     init_params=[(2.0,2.0),(2.0,2.0),(2.0,2.0)],\n",
    "                                     n_layers=3,\n",
    "                                     n_steps=20,\n",
    "                                     n_classes=2,\n",
    "                                     input_dims=1,\n",
    "                                     cell_type=\"RNN\")"
   ]
  },
  {
   "cell_type": "code",
   "execution_count": null,
   "metadata": {},
   "outputs": [],
   "source": [
    "a = tf.ones([10, 16])\n",
    "b = tf.split(a, [1]*10)\n",
    "\n",
    "print(b)"
   ]
  },
  {
   "cell_type": "code",
   "execution_count": null,
   "metadata": {},
   "outputs": [],
   "source": [
    "t = tf.constant([[1, 2, 3], [4, 5, 6]])\n",
    "paddings = tf.constant([[0, 0], [0, 3]])\n",
    "with tf.Session():\n",
    "    print tf.pad(t, paddings, constant_values=0.0).eval() "
   ]
  },
  {
   "cell_type": "code",
   "execution_count": null,
   "metadata": {},
   "outputs": [],
   "source": [
    "tf.reset_default_graph()\n",
    "init_params=[(1.0,0.5),(2.0,2.0)]\n",
    "dilations = []\n",
    "for l in xrange(2):\n",
    "    with tf.variable_scope('struct_layer_{}'.format(l)):\n",
    "        mu = tf.get_variable('mu', initializer=tf.constant(init_params[l][0]))\n",
    "        sigma = tf.get_variable('sigma', initializer=tf.constant(init_params[l][1]))\n",
    "                \n",
    "    rates = tf.range(tf.ceil(tf.maximum(mu-sigma,0.5)), \n",
    "                     tf.ceil(tf.minimum(mu+sigma,20)))\n",
    "    probs = triangular_pmf(rates, mu, sigma, 20)\n",
    "    probs = tf.expand_dims(probs, 0)\n",
    "    idx = tf.multinomial(tf.log(probs), 1)\n",
    "    rates = tf.cast(rates, tf.int32)\n",
    "    dilations.append(rates[idx[0][0]])  "
   ]
  },
  {
   "cell_type": "code",
   "execution_count": null,
   "metadata": {},
   "outputs": [],
   "source": [
    "with tf.Session() as sess:\n",
    "    sess.run(tf.global_variables_initializer())\n",
    "    print sess.run(probs)"
   ]
  },
  {
   "cell_type": "code",
   "execution_count": null,
   "metadata": {},
   "outputs": [],
   "source": [
    "a = tf.constant([1])\n",
    "b = a;\n",
    "c = b;\n",
    "\n",
    "with tf.Session() as sess:\n",
    "    print sess.run(c, feed_dict = {b: [2]})"
   ]
  },
  {
   "cell_type": "code",
   "execution_count": null,
   "metadata": {},
   "outputs": [],
   "source": [
    "from pdrnn import drnn_classification, _contruct_cells\n",
    "from pdrnn import dRNN, multi_dRNN_with_dilations\n",
    "# build the network\n",
    "tf.reset_default_graph()\n",
    "\n",
    "dilations = []\n",
    "for l in xrange(3):\n",
    "    d = tf.placeholder_with_default(tf.constant(l+1), [])\n",
    "    dilations.append(d)\n",
    "\n",
    "inputs = tf.placeholder(tf.float32, shape = [None, None, 1], name = 'inputs')\n",
    "hidden_structs=[4]*3\n",
    "\n",
    "# construct a list of cells\n",
    "cells = _contruct_cells(hidden_structs=hidden_structs, cell_type='LSTM')\n",
    "\n",
    "#logits = multi_dRNN_with_dilations(cells, inputs, hidden_structs, dilations)\n",
    "#logits = dRNN(cells[0], inputs, dilations[0], 1, scope='default')\n",
    "\n",
    "logits = drnn_classification(x=inputs,\n",
    "                               hidden_structs=hidden_structs,\n",
    "                               dilations=dilations,\n",
    "                               n_classes=2,\n",
    "                               input_dims=1,\n",
    "                               cell_type='RNN')\n"
   ]
  },
  {
   "cell_type": "code",
   "execution_count": null,
   "metadata": {},
   "outputs": [],
   "source": [
    "with tf.Session() as sess:\n",
    "    sess.run(tf.global_variables_initializer())\n",
    "    pred = sess.run(logits, feed_dict={inputs: np.random.uniform(size=[100,32,1])})\n",
    "    print pred.shape"
   ]
  }
 ],
 "metadata": {
  "kernelspec": {
   "display_name": "Python 2",
   "language": "python",
   "name": "python2"
  },
  "language_info": {
   "codemirror_mode": {
    "name": "ipython",
    "version": 2
   },
   "file_extension": ".py",
   "mimetype": "text/x-python",
   "name": "python",
   "nbconvert_exporter": "python",
   "pygments_lexer": "ipython2",
   "version": "2.7.6"
  }
 },
 "nbformat": 4,
 "nbformat_minor": 2
}
