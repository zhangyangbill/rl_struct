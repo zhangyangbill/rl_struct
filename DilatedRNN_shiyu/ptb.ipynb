{
 "cells": [
  {
   "cell_type": "markdown",
   "metadata": {},
   "source": [
    "# Permuted Pixel MNIST Demo \n",
    "Light weighted demo of our DilatedRNN on Pixel MNist with permutation."
   ]
  },
  {
   "cell_type": "code",
   "execution_count": 1,
   "metadata": {},
   "outputs": [],
   "source": [
    "%load_ext autoreload\n",
    "%autoreload 2\n",
    "import os\n",
    "os.environ[\"CUDA_DEVICE_ORDER\"]=\"PCI_BUS_ID\"\n",
    "os.environ[\"CUDA_VISIBLE_DEVICES\"]=\"0\"\n",
    "#from tensorflow.python.client import device_lib\n",
    "#print device_lib.list_local_devices()"
   ]
  },
  {
   "cell_type": "code",
   "execution_count": 2,
   "metadata": {},
   "outputs": [
    {
     "name": "stderr",
     "output_type": "stream",
     "text": [
      "/home/logos/envs/prob_dropout/local/lib/python2.7/site-packages/h5py/__init__.py:36: FutureWarning: Conversion of the second argument of issubdtype from `float` to `np.floating` is deprecated. In future, it will be treated as `np.float64 == np.dtype(float).type`.\n",
      "  from ._conv import register_converters as _register_converters\n"
     ]
    }
   ],
   "source": [
    "import sys\n",
    "sys.path.append(\"./models\")\n",
    "import numpy as np\n",
    "import tensorflow as tf\n",
    "from classification_models import drnn_classification\n",
    "#from pdrnn import drnn_classification"
   ]
  },
  {
   "cell_type": "code",
   "execution_count": 3,
   "metadata": {},
   "outputs": [],
   "source": [
    "# configurations\n",
    "# processed data from the Zoneout paper:\n",
    "# https://github.com/teganmaharaj/wtfcptb/raw/master/char_level_penntree.npz\n",
    "data_path = \"./penn_tree_clean.npz\"\n",
    "n_steps = 100 #length of input sequence\n",
    "input_dims = 128 # char embedding dimension\n",
    "n_classes = 49 # vocab size\n",
    "\n",
    "# model config\n",
    "cell_type = \"GRU\"\n",
    "assert(cell_type in [\"RNN\", \"LSTM\", \"GRU\"])\n",
    "hidden_structs = [256] * 7\n",
    "dilations = [1,2,4,6,8,32,64]\n",
    "assert(len(hidden_structs) == len(dilations))\n",
    "\n",
    "# learning config\n",
    "batch_size = 64\n",
    "learning_rate = 0.002\n",
    "training_iters = batch_size * 30000\n",
    "testing_step = 10\n",
    "display_step = 10\n",
    "\n",
    "test_batch_size = 128\n"
   ]
  },
  {
   "cell_type": "code",
   "execution_count": 4,
   "metadata": {},
   "outputs": [],
   "source": [
    "class PTB_data1(object):\n",
    "    def __init__(self, data_dict, n_steps, val_batch_size):\n",
    "        self.data_dict = data_dict\n",
    "        train_size = self.data_dict['train'].shape[0]\n",
    "        self.train_rng = np.arange(train_size-n_steps-1)\n",
    "        validation_size = self.data_dict['valid'].shape[0]\n",
    "        self.n_batches = (validation_size-n_steps-1) / val_batch_size\n",
    "        self.val_batch_size = val_batch_size\n",
    "        self.n_steps = n_steps\n",
    "        \n",
    "    def random_train_batch(self, batch_size, n_steps):\n",
    "        \"\"\"\n",
    "        Randomly sample a batch of sequences of length n_steps from training set.\n",
    "        \"\"\"\n",
    "        offsets = np.random.choice(self.train_rng, batch_size)\n",
    "        selections = np.tile(np.arange(n_steps)[:,np.newaxis],\n",
    "                             batch_size) + offsets\n",
    "        \n",
    "        batch_x = self.data_dict['train'][selections]\n",
    "        batch_y = self.data_dict['train'][offsets+n_steps]\n",
    "        \n",
    "        return batch_x.T, batch_y\n",
    "    \n",
    "    def get_validation_batches(self):\n",
    "        \"\"\"\n",
    "        A generator for all validation data in mini batches.\n",
    "        \"\"\"        \n",
    "        for batch_id in range(self.n_batches):\n",
    "            offset_base = np.arange(batch_id*self.val_batch_size, \n",
    "                                    (batch_id+1)*self.val_batch_size)\n",
    "            selections = np.tile(np.arange(self.n_steps)[:,np.newaxis],\n",
    "                                 self.val_batch_size) + offset_base\n",
    "            batch_x = self.data_dict['valid'][selections]\n",
    "            batch_y = self.data_dict['valid'][offset_base+self.n_steps]\n",
    "            yield batch_x.T, batch_y\n",
    "\n",
    "data_path = \"./penn_tree_clean.npz\"            \n",
    "ptb_data1 = PTB_data1(np.load(data_path), 100, 16384)"
   ]
  },
  {
   "cell_type": "code",
   "execution_count": 46,
   "metadata": {},
   "outputs": [
    {
     "data": {
      "text/plain": [
       "(396412,)"
      ]
     },
     "execution_count": 46,
     "metadata": {},
     "output_type": "execute_result"
    }
   ],
   "source": [
    "a = np.load(data_path)\n",
    "b = a['valid']\n",
    "b.shape"
   ]
  },
  {
   "cell_type": "code",
   "execution_count": 42,
   "metadata": {},
   "outputs": [],
   "source": [
    "offset_base = np.arange(2*batch_size, (2+1)*batch_size)\n",
    "selections = np.tile(np.arange(n_steps)[:,np.newaxis],\n",
    "                     batch_size) + offset_base"
   ]
  },
  {
   "cell_type": "code",
   "execution_count": 45,
   "metadata": {},
   "outputs": [
    {
     "data": {
      "text/plain": [
       "array([[128, 129, 130, ..., 189, 190, 191],\n",
       "       [129, 130, 131, ..., 190, 191, 192],\n",
       "       [130, 131, 132, ..., 191, 192, 193],\n",
       "       ...,\n",
       "       [225, 226, 227, ..., 286, 287, 288],\n",
       "       [226, 227, 228, ..., 287, 288, 289],\n",
       "       [227, 228, 229, ..., 288, 289, 290]])"
      ]
     },
     "execution_count": 45,
     "metadata": {},
     "output_type": "execute_result"
    }
   ],
   "source": [
    "selections"
   ]
  },
  {
   "cell_type": "code",
   "execution_count": 53,
   "metadata": {},
   "outputs": [],
   "source": [
    "class PTB_data2(object):\n",
    "    def __init__(self, data_dict):\n",
    "        self.data_dict = data_dict\n",
    "        \n",
    "    def random_train_batch(self, batch_size, n_steps):\n",
    "        \"\"\"\n",
    "        Randomly sample a batch of sequences of length n_steps from training set.\n",
    "        \"\"\"\n",
    "        np.random.seed(0)\n",
    "        batch_x = np.zeros((batch_size, n_steps), dtype=np.int32)\n",
    "        batch_y = np.zeros((batch_size,), dtype=np.int32)\n",
    "        train_size = len(self.data_dict['train'])\n",
    "        offsets = np.random.choice(range(train_size-n_steps-1), batch_size)\n",
    "        for idx in range(batch_size):\n",
    "            offset = offsets[idx]\n",
    "            batch_x[idx,:] = self.data_dict['train'][offset:offset+n_steps]\n",
    "            batch_y[idx] = self.data_dict['train'][offset+n_steps]\n",
    "        return batch_x, batch_y\n",
    "    \n",
    "    def get_validation_batches(self, batch_size, n_steps):\n",
    "        \"\"\"\n",
    "        A generator for all validation data in mini batches.\n",
    "        \"\"\"\n",
    "        validation_size = len(self.data_dict['valid'])\n",
    "        batch_x = np.zeros((batch_size, n_steps), dtype=np.int32)\n",
    "        batch_y = np.zeros((batch_size,), dtype=np.int32)\n",
    "        n_batches = (validation_size-n_steps-1) / batch_size\n",
    "        \n",
    "        for batch_id in range(n_batches):\n",
    "            offset_base = batch_id * batch_size\n",
    "            for idx in range(batch_size):\n",
    "                offset = offset_base + idx\n",
    "                batch_x[idx,:] = self.data_dict['valid'][offset:offset+n_steps]\n",
    "                batch_y[idx] = self.data_dict['valid'][offset+n_steps]\n",
    "            yield batch_x.T, batch_y[np.newaxis,:]\n",
    "\n",
    "ptb_data2 = PTB_data2(np.load(data_path))"
   ]
  },
  {
   "cell_type": "code",
   "execution_count": 51,
   "metadata": {},
   "outputs": [],
   "source": [
    "inputs_val_1, target_val_1 = np.zeros((100,128)), np.zeros((1,128)) \n",
    "for inputs_val, target_val in ptb_data1.get_validation_batches():\n",
    "    inputs_val_1 += inputs_val\n",
    "    target_val_1 += target_val"
   ]
  },
  {
   "cell_type": "code",
   "execution_count": 54,
   "metadata": {},
   "outputs": [],
   "source": [
    "inputs_val_2, target_val_2 = np.zeros((100,128)), np.zeros((1,128)) \n",
    "for inputs_val, target_val in ptb_data2.get_validation_batches(128, 100):\n",
    "    inputs_val_2 += inputs_val\n",
    "    target_val_2 += target_val"
   ]
  },
  {
   "cell_type": "code",
   "execution_count": 62,
   "metadata": {},
   "outputs": [
    {
     "data": {
      "text/plain": [
       "array([[21972., 21993., 22038., 22657., 22465., 21922., 21545., 22376.,\n",
       "        21668., 22192., 21421., 22226., 22148., 21401., 22260., 21772.,\n",
       "        21698., 21941., 22006., 21882., 22729., 21534., 21983., 22023.,\n",
       "        22279., 22825., 21668., 22769., 21601., 22906., 21908., 22115.,\n",
       "        22000., 22127., 22027., 22164., 22490., 22198., 21570., 22495.,\n",
       "        21679., 22697., 22397., 22054., 22856., 21291., 22394., 22383.,\n",
       "        21456., 22827., 21356., 22243., 21358., 22055., 22554., 23019.,\n",
       "        21842., 22377., 22054., 21736., 22070., 22383., 21996., 22147.,\n",
       "        22081., 22459., 20684., 23103., 22056., 21585., 22107., 21526.,\n",
       "        21885., 22090., 21748., 21737., 22811., 22187., 21491., 22659.,\n",
       "        22384., 20828., 22342., 21646., 21563., 21847., 21957., 21816.,\n",
       "        22127., 21542., 21472., 21846., 22001., 22129., 21368., 21923.,\n",
       "        22055., 22430., 22454., 22168., 21905., 22938., 22010., 22390.,\n",
       "        21943., 21977., 22391., 22229., 21404., 22611., 21811., 21930.,\n",
       "        22214., 22282., 21927., 22515., 21675., 22197., 22361., 21352.,\n",
       "        22335., 21933., 22194., 22131., 21424., 22291., 22046., 21800.]])"
      ]
     },
     "execution_count": 62,
     "metadata": {},
     "output_type": "execute_result"
    }
   ],
   "source": [
    "target_val_2"
   ]
  },
  {
   "cell_type": "code",
   "execution_count": 15,
   "metadata": {},
   "outputs": [],
   "source": [
    "#char_embeddings = tf.get_variable(\"char_embeddings\", [n_classes, input_dims])\n",
    "x_emb2 = tf.nn.embedding_lookup(char_embeddings, batch_x)"
   ]
  },
  {
   "cell_type": "code",
   "execution_count": 38,
   "metadata": {},
   "outputs": [
    {
     "data": {
      "text/plain": [
       "<tf.Tensor 'embedding_lookup:0' shape=(64, 100, 64) dtype=float32>"
      ]
     },
     "execution_count": 38,
     "metadata": {},
     "output_type": "execute_result"
    }
   ],
   "source": [
    "x_emb"
   ]
  },
  {
   "cell_type": "code",
   "execution_count": 18,
   "metadata": {},
   "outputs": [
    {
     "name": "stdout",
     "output_type": "stream",
     "text": [
      "True\n"
     ]
    }
   ],
   "source": [
    "with tf.Session() as sess:\n",
    "    sess.run(tf.global_variables_initializer())\n",
    "    print sess.run(tf.reduce_all(tf.equal(x_emb1, tf.transpose(x_emb2, perm=[1,0,2]))))"
   ]
  },
  {
   "cell_type": "code",
   "execution_count": 6,
   "metadata": {},
   "outputs": [
    {
     "name": "stdout",
     "output_type": "stream",
     "text": [
      "==> Building a dRNN with GRU cells\n",
      "Building layer: multi_dRNN_dilation_1, input length: 100, dilation rate: 1, input dim: 128.\n",
      "=====> Input length for sub-RNN: 100\n",
      "Building layer: multi_dRNN_dilation_2, input length: 100, dilation rate: 2, input dim: 256.\n",
      "=====> Input length for sub-RNN: 50\n",
      "Building layer: multi_dRNN_dilation_4, input length: 100, dilation rate: 4, input dim: 256.\n",
      "=====> Input length for sub-RNN: 25\n",
      "Building layer: multi_dRNN_dilation_6, input length: 100, dilation rate: 6, input dim: 256.\n",
      "=====> 2 time points need to be padded. \n",
      "=====> Input length for sub-RNN: 17\n",
      "Building layer: multi_dRNN_dilation_8, input length: 100, dilation rate: 8, input dim: 256.\n",
      "=====> 4 time points need to be padded. \n",
      "=====> Input length for sub-RNN: 13\n",
      "Building layer: multi_dRNN_dilation_32, input length: 100, dilation rate: 32, input dim: 256.\n",
      "=====> 28 time points need to be padded. \n",
      "=====> Input length for sub-RNN: 4\n",
      "Building layer: multi_dRNN_dilation_64, input length: 100, dilation rate: 64, input dim: 256.\n",
      "=====> 28 time points need to be padded. \n",
      "=====> Input length for sub-RNN: 2\n"
     ]
    }
   ],
   "source": [
    "# build computation graph\n",
    "tf.reset_default_graph()\n",
    "x = tf.placeholder(tf.int32, [None, n_steps])\n",
    "y = tf.placeholder(tf.int32, [None,])\n",
    "\n",
    "char_embeddings = tf.get_variable(\"char_embeddings\", [n_classes, input_dims])\n",
    "x_emb = tf.nn.embedding_lookup(char_embeddings, x)\n",
    "\n",
    "global_step = tf.Variable(0, name='global_step', trainable=False)\n",
    "\n",
    "# build prediction graph\n",
    "print \"==> Building a dRNN with %s cells\" %cell_type\n",
    "#pred = drnn_classification(x_emb, hidden_structs, dilations, n_classes, 1, False, input_dims, cell_type)\n",
    "pred = drnn_classification(x_emb, hidden_structs, dilations, n_steps, n_classes, input_dims, cell_type)\n",
    "\n",
    "# build loss and optimizer\n",
    "cost = tf.reduce_mean(tf.nn.sparse_softmax_cross_entropy_with_logits(logits=pred, labels=y))\n",
    "bpc_cost = cost / np.log(2.0)\n",
    "optimizer = tf.train.AdamOptimizer(learning_rate)\n",
    "gvs = optimizer.compute_gradients(bpc_cost)\n",
    "capped_gvs = [(tf.clip_by_value(grad, -1., 1.), var) for grad, var in gvs]\n",
    "train_op = optimizer.apply_gradients(capped_gvs, global_step=global_step)"
   ]
  },
  {
   "cell_type": "code",
   "execution_count": 9,
   "metadata": {},
   "outputs": [
    {
     "data": {
      "text/plain": [
       "[(<tensorflow.python.framework.ops.IndexedSlices at 0x7f6219269c50>,\n",
       "  <tf.Variable 'char_embeddings:0' shape=(49, 128) dtype=float32_ref>),\n",
       " (<tf.Tensor 'gradients/AddN_662:0' shape=(384, 512) dtype=float32>,\n",
       "  <tf.Variable 'multi_dRNN_dilation_1/gru_cell/gates/kernel:0' shape=(384, 512) dtype=float32_ref>),\n",
       " (<tf.Tensor 'gradients/AddN_661:0' shape=(512,) dtype=float32>,\n",
       "  <tf.Variable 'multi_dRNN_dilation_1/gru_cell/gates/bias:0' shape=(512,) dtype=float32_ref>),\n",
       " (<tf.Tensor 'gradients/AddN_659:0' shape=(384, 256) dtype=float32>,\n",
       "  <tf.Variable 'multi_dRNN_dilation_1/gru_cell/candidate/kernel:0' shape=(384, 256) dtype=float32_ref>),\n",
       " (<tf.Tensor 'gradients/AddN_658:0' shape=(256,) dtype=float32>,\n",
       "  <tf.Variable 'multi_dRNN_dilation_1/gru_cell/candidate/bias:0' shape=(256,) dtype=float32_ref>),\n",
       " (<tf.Tensor 'gradients/AddN_503:0' shape=(512, 512) dtype=float32>,\n",
       "  <tf.Variable 'multi_dRNN_dilation_2/gru_cell/gates/kernel:0' shape=(512, 512) dtype=float32_ref>),\n",
       " (<tf.Tensor 'gradients/AddN_502:0' shape=(512,) dtype=float32>,\n",
       "  <tf.Variable 'multi_dRNN_dilation_2/gru_cell/gates/bias:0' shape=(512,) dtype=float32_ref>),\n",
       " (<tf.Tensor 'gradients/AddN_499:0' shape=(512, 256) dtype=float32>,\n",
       "  <tf.Variable 'multi_dRNN_dilation_2/gru_cell/candidate/kernel:0' shape=(512, 256) dtype=float32_ref>),\n",
       " (<tf.Tensor 'gradients/AddN_498:0' shape=(256,) dtype=float32>,\n",
       "  <tf.Variable 'multi_dRNN_dilation_2/gru_cell/candidate/bias:0' shape=(256,) dtype=float32_ref>),\n",
       " (<tf.Tensor 'gradients/AddN_341:0' shape=(512, 512) dtype=float32>,\n",
       "  <tf.Variable 'multi_dRNN_dilation_4/gru_cell/gates/kernel:0' shape=(512, 512) dtype=float32_ref>),\n",
       " (<tf.Tensor 'gradients/AddN_339:0' shape=(512,) dtype=float32>,\n",
       "  <tf.Variable 'multi_dRNN_dilation_4/gru_cell/gates/bias:0' shape=(512,) dtype=float32_ref>),\n",
       " (<tf.Tensor 'gradients/AddN_336:0' shape=(512, 256) dtype=float32>,\n",
       "  <tf.Variable 'multi_dRNN_dilation_4/gru_cell/candidate/kernel:0' shape=(512, 256) dtype=float32_ref>),\n",
       " (<tf.Tensor 'gradients/AddN_335:0' shape=(256,) dtype=float32>,\n",
       "  <tf.Variable 'multi_dRNN_dilation_4/gru_cell/candidate/bias:0' shape=(256,) dtype=float32_ref>),\n",
       " (<tf.Tensor 'gradients/AddN_253:0' shape=(512, 512) dtype=float32>,\n",
       "  <tf.Variable 'multi_dRNN_dilation_6/gru_cell/gates/kernel:0' shape=(512, 512) dtype=float32_ref>),\n",
       " (<tf.Tensor 'gradients/AddN_251:0' shape=(512,) dtype=float32>,\n",
       "  <tf.Variable 'multi_dRNN_dilation_6/gru_cell/gates/bias:0' shape=(512,) dtype=float32_ref>),\n",
       " (<tf.Tensor 'gradients/AddN_246:0' shape=(512, 256) dtype=float32>,\n",
       "  <tf.Variable 'multi_dRNN_dilation_6/gru_cell/candidate/kernel:0' shape=(512, 256) dtype=float32_ref>),\n",
       " (<tf.Tensor 'gradients/AddN_245:0' shape=(256,) dtype=float32>,\n",
       "  <tf.Variable 'multi_dRNN_dilation_6/gru_cell/candidate/bias:0' shape=(256,) dtype=float32_ref>),\n",
       " (<tf.Tensor 'gradients/AddN_186:0' shape=(512, 512) dtype=float32>,\n",
       "  <tf.Variable 'multi_dRNN_dilation_8/gru_cell/gates/kernel:0' shape=(512, 512) dtype=float32_ref>),\n",
       " (<tf.Tensor 'gradients/AddN_184:0' shape=(512,) dtype=float32>,\n",
       "  <tf.Variable 'multi_dRNN_dilation_8/gru_cell/gates/bias:0' shape=(512,) dtype=float32_ref>),\n",
       " (<tf.Tensor 'gradients/AddN_177:0' shape=(512, 256) dtype=float32>,\n",
       "  <tf.Variable 'multi_dRNN_dilation_8/gru_cell/candidate/kernel:0' shape=(512, 256) dtype=float32_ref>),\n",
       " (<tf.Tensor 'gradients/AddN_176:0' shape=(256,) dtype=float32>,\n",
       "  <tf.Variable 'multi_dRNN_dilation_8/gru_cell/candidate/bias:0' shape=(256,) dtype=float32_ref>),\n",
       " (<tf.Tensor 'gradients/AddN_38:0' shape=(512, 512) dtype=float32>,\n",
       "  <tf.Variable 'multi_dRNN_dilation_32/gru_cell/gates/kernel:0' shape=(512, 512) dtype=float32_ref>),\n",
       " (<tf.Tensor 'gradients/AddN_36:0' shape=(512,) dtype=float32>,\n",
       "  <tf.Variable 'multi_dRNN_dilation_32/gru_cell/gates/bias:0' shape=(512,) dtype=float32_ref>),\n",
       " (<tf.Tensor 'gradients/AddN_33:0' shape=(512, 256) dtype=float32>,\n",
       "  <tf.Variable 'multi_dRNN_dilation_32/gru_cell/candidate/kernel:0' shape=(512, 256) dtype=float32_ref>),\n",
       " (<tf.Tensor 'gradients/AddN_31:0' shape=(256,) dtype=float32>,\n",
       "  <tf.Variable 'multi_dRNN_dilation_32/gru_cell/candidate/bias:0' shape=(256,) dtype=float32_ref>),\n",
       " (<tf.Tensor 'gradients/AddN_9:0' shape=(512, 512) dtype=float32>,\n",
       "  <tf.Variable 'multi_dRNN_dilation_64/gru_cell/gates/kernel:0' shape=(512, 512) dtype=float32_ref>),\n",
       " (<tf.Tensor 'gradients/AddN_8:0' shape=(512,) dtype=float32>,\n",
       "  <tf.Variable 'multi_dRNN_dilation_64/gru_cell/gates/bias:0' shape=(512,) dtype=float32_ref>),\n",
       " (<tf.Tensor 'gradients/AddN_5:0' shape=(512, 256) dtype=float32>,\n",
       "  <tf.Variable 'multi_dRNN_dilation_64/gru_cell/candidate/kernel:0' shape=(512, 256) dtype=float32_ref>),\n",
       " (<tf.Tensor 'gradients/AddN_4:0' shape=(256,) dtype=float32>,\n",
       "  <tf.Variable 'multi_dRNN_dilation_64/gru_cell/candidate/bias:0' shape=(256,) dtype=float32_ref>),\n",
       " (<tf.Tensor 'gradients/MatMul_grad/tuple/control_dependency_1:0' shape=(256, 49) dtype=float32>,\n",
       "  <tf.Variable 'Variable:0' shape=(256, 49) dtype=float32_ref>),\n",
       " (<tf.Tensor 'gradients/Add_grad/tuple/control_dependency_1:0' shape=(49,) dtype=float32>,\n",
       "  <tf.Variable 'Variable_1:0' shape=(49,) dtype=float32_ref>)]"
      ]
     },
     "execution_count": 9,
     "metadata": {},
     "output_type": "execute_result"
    }
   ],
   "source": [
    "gvs"
   ]
  },
  {
   "cell_type": "code",
   "execution_count": 7,
   "metadata": {},
   "outputs": [
    {
     "data": {
      "text/plain": [
       "[<tf.Variable 'char_embeddings:0' shape=(49, 64) dtype=float32_ref>,\n",
       " <tf.Variable 'multi_dRNN_dilation_1/basic_lstm_cell/kernel:0' shape=(320, 1024) dtype=float32_ref>,\n",
       " <tf.Variable 'multi_dRNN_dilation_1/basic_lstm_cell/bias:0' shape=(1024,) dtype=float32_ref>,\n",
       " <tf.Variable 'Variable:0' shape=(256, 49) dtype=float32_ref>,\n",
       " <tf.Variable 'Variable_1:0' shape=(49,) dtype=float32_ref>]"
      ]
     },
     "execution_count": 7,
     "metadata": {},
     "output_type": "execute_result"
    }
   ],
   "source": [
    "tf.trainable_variables()"
   ]
  },
  {
   "cell_type": "code",
   "execution_count": 6,
   "metadata": {},
   "outputs": [],
   "source": [
    "sess = tf.Session()\n",
    "init = tf.global_variables_initializer()\n",
    "sess.run(init)"
   ]
  },
  {
   "cell_type": "code",
   "execution_count": 7,
   "metadata": {
    "scrolled": true
   },
   "outputs": [
    {
     "name": "stdout",
     "output_type": "stream",
     "text": [
      "Iter 10, Minibatch Loss: 4.672160\n",
      "Iter 20, Minibatch Loss: 4.374793\n",
      "Iter 30, Minibatch Loss: 4.621165\n",
      "Iter 40, Minibatch Loss: 4.525662\n",
      "Iter 50, Minibatch Loss: 4.514990\n",
      "Iter 60, Minibatch Loss: 4.323358\n",
      "Iter 70, Minibatch Loss: 4.107100\n",
      "Iter 80, Minibatch Loss: 4.269569\n",
      "Iter 90, Minibatch Loss: 4.314702\n",
      "Iter 100, Minibatch Loss: 4.593975\n",
      "Iter 110, Minibatch Loss: 4.401452\n",
      "Iter 120, Minibatch Loss: 4.606582\n",
      "Iter 130, Minibatch Loss: 3.982379\n",
      "Iter 140, Minibatch Loss: 4.511949\n",
      "Iter 150, Minibatch Loss: 4.164510\n",
      "Iter 160, Minibatch Loss: 4.541777\n",
      "Iter 170, Minibatch Loss: 4.232868\n",
      "Iter 180, Minibatch Loss: 4.600549\n",
      "Iter 190, Minibatch Loss: 4.343833\n",
      "Iter 200, Minibatch Loss: 4.520821\n",
      "Iter 210, Minibatch Loss: 4.168346\n",
      "Iter 220, Minibatch Loss: 3.921391\n",
      "Iter 230, Minibatch Loss: 4.508394\n",
      "Iter 240, Minibatch Loss: 4.462979\n",
      "Iter 250, Minibatch Loss: 4.182891\n",
      "Iter 260, Minibatch Loss: 4.166235\n",
      "Iter 270, Minibatch Loss: 4.409044\n",
      "Iter 280, Minibatch Loss: 4.683818\n",
      "Iter 290, Minibatch Loss: 4.413447\n",
      "Iter 300, Minibatch Loss: 4.346976\n"
     ]
    },
    {
     "ename": "ResourceExhaustedError",
     "evalue": "OOM when allocating tensor with shape[524288,512]\n\t [[Node: multi_dRNN_dilation_32/multi_dRNN_dilation_32/gru_cell/concat_1 = ConcatV2[N=2, T=DT_DOUBLE, Tidx=DT_INT32, _device=\"/job:localhost/replica:0/task:0/device:GPU:0\"](concat_205, multi_dRNN_dilation_32/multi_dRNN_dilation_32/gru_cell/mul, multi_dRNN_dilation_64/multi_dRNN_dilation_64/gru_cell/split_1/split_dim)]]\n\t [[Node: div/_37 = _Recv[client_terminated=false, recv_device=\"/job:localhost/replica:0/task:0/device:CPU:0\", send_device=\"/job:localhost/replica:0/task:0/device:GPU:0\", send_device_incarnation=1, tensor_name=\"edge_7286_div\", tensor_type=DT_DOUBLE, _device=\"/job:localhost/replica:0/task:0/device:CPU:0\"]()]]\n\nCaused by op u'multi_dRNN_dilation_32/multi_dRNN_dilation_32/gru_cell/concat_1', defined at:\n  File \"/usr/lib/python2.7/runpy.py\", line 162, in _run_module_as_main\n    \"__main__\", fname, loader, pkg_name)\n  File \"/usr/lib/python2.7/runpy.py\", line 72, in _run_code\n    exec code in run_globals\n  File \"/home/logos/envs/prob_dropout/lib/python2.7/site-packages/ipykernel_launcher.py\", line 16, in <module>\n    app.launch_new_instance()\n  File \"/home/logos/envs/prob_dropout/local/lib/python2.7/site-packages/traitlets/config/application.py\", line 658, in launch_instance\n    app.start()\n  File \"/home/logos/envs/prob_dropout/local/lib/python2.7/site-packages/ipykernel/kernelapp.py\", line 478, in start\n    self.io_loop.start()\n  File \"/home/logos/envs/prob_dropout/local/lib/python2.7/site-packages/zmq/eventloop/ioloop.py\", line 177, in start\n    super(ZMQIOLoop, self).start()\n  File \"/home/logos/envs/prob_dropout/local/lib/python2.7/site-packages/tornado/ioloop.py\", line 888, in start\n    handler_func(fd_obj, events)\n  File \"/home/logos/envs/prob_dropout/local/lib/python2.7/site-packages/tornado/stack_context.py\", line 277, in null_wrapper\n    return fn(*args, **kwargs)\n  File \"/home/logos/envs/prob_dropout/local/lib/python2.7/site-packages/zmq/eventloop/zmqstream.py\", line 440, in _handle_events\n    self._handle_recv()\n  File \"/home/logos/envs/prob_dropout/local/lib/python2.7/site-packages/zmq/eventloop/zmqstream.py\", line 472, in _handle_recv\n    self._run_callback(callback, msg)\n  File \"/home/logos/envs/prob_dropout/local/lib/python2.7/site-packages/zmq/eventloop/zmqstream.py\", line 414, in _run_callback\n    callback(*args, **kwargs)\n  File \"/home/logos/envs/prob_dropout/local/lib/python2.7/site-packages/tornado/stack_context.py\", line 277, in null_wrapper\n    return fn(*args, **kwargs)\n  File \"/home/logos/envs/prob_dropout/local/lib/python2.7/site-packages/ipykernel/kernelbase.py\", line 281, in dispatcher\n    return self.dispatch_shell(stream, msg)\n  File \"/home/logos/envs/prob_dropout/local/lib/python2.7/site-packages/ipykernel/kernelbase.py\", line 232, in dispatch_shell\n    handler(stream, idents, msg)\n  File \"/home/logos/envs/prob_dropout/local/lib/python2.7/site-packages/ipykernel/kernelbase.py\", line 397, in execute_request\n    user_expressions, allow_stdin)\n  File \"/home/logos/envs/prob_dropout/local/lib/python2.7/site-packages/ipykernel/ipkernel.py\", line 208, in do_execute\n    res = shell.run_cell(code, store_history=store_history, silent=silent)\n  File \"/home/logos/envs/prob_dropout/local/lib/python2.7/site-packages/ipykernel/zmqshell.py\", line 533, in run_cell\n    return super(ZMQInteractiveShell, self).run_cell(*args, **kwargs)\n  File \"/home/logos/envs/prob_dropout/local/lib/python2.7/site-packages/IPython/core/interactiveshell.py\", line 2718, in run_cell\n    interactivity=interactivity, compiler=compiler, result=result)\n  File \"/home/logos/envs/prob_dropout/local/lib/python2.7/site-packages/IPython/core/interactiveshell.py\", line 2822, in run_ast_nodes\n    if self.run_code(code, result):\n  File \"/home/logos/envs/prob_dropout/local/lib/python2.7/site-packages/IPython/core/interactiveshell.py\", line 2882, in run_code\n    exec(code_obj, self.user_global_ns, self.user_ns)\n  File \"<ipython-input-5-24744aac3aed>\", line 14, in <module>\n    pred = drnn_classification(x_emb, hidden_structs, dilations, n_steps, n_classes, input_dims, cell_type)\n  File \"./models/classification_models.py\", line 77, in drnn_classification\n    layer_outputs = multi_dRNN_with_dilations(cells, x_reformat, dilations)\n  File \"./models/drnn.py\", line 87, in multi_dRNN_with_dilations\n    x = dRNN(cell, x, dilation, scope=scope_name)\n  File \"./models/drnn.py\", line 58, in dRNN\n    dtype=tf.float64, scope=scope)\n  File \"/home/logos/envs/prob_dropout/local/lib/python2.7/site-packages/tensorflow/python/ops/rnn.py\", line 1253, in static_rnn\n    (output, state) = call_cell()\n  File \"/home/logos/envs/prob_dropout/local/lib/python2.7/site-packages/tensorflow/python/ops/rnn.py\", line 1240, in <lambda>\n    call_cell = lambda: cell(input_, state)\n  File \"/home/logos/envs/prob_dropout/local/lib/python2.7/site-packages/tensorflow/python/ops/rnn_cell_impl.py\", line 183, in __call__\n    return super(RNNCell, self).__call__(inputs, state)\n  File \"/home/logos/envs/prob_dropout/local/lib/python2.7/site-packages/tensorflow/python/layers/base.py\", line 575, in __call__\n    outputs = self.call(inputs, *args, **kwargs)\n  File \"/home/logos/envs/prob_dropout/local/lib/python2.7/site-packages/tensorflow/python/ops/rnn_cell_impl.py\", line 334, in call\n    c = self._activation(self._candidate_linear([inputs, r_state]))\n  File \"/home/logos/envs/prob_dropout/local/lib/python2.7/site-packages/tensorflow/python/ops/rnn_cell_impl.py\", line 1189, in __call__\n    res = math_ops.matmul(array_ops.concat(args, 1), self._weights)\n  File \"/home/logos/envs/prob_dropout/local/lib/python2.7/site-packages/tensorflow/python/ops/array_ops.py\", line 1099, in concat\n    return gen_array_ops._concat_v2(values=values, axis=axis, name=name)\n  File \"/home/logos/envs/prob_dropout/local/lib/python2.7/site-packages/tensorflow/python/ops/gen_array_ops.py\", line 706, in _concat_v2\n    \"ConcatV2\", values=values, axis=axis, name=name)\n  File \"/home/logos/envs/prob_dropout/local/lib/python2.7/site-packages/tensorflow/python/framework/op_def_library.py\", line 787, in _apply_op_helper\n    op_def=op_def)\n  File \"/home/logos/envs/prob_dropout/local/lib/python2.7/site-packages/tensorflow/python/framework/ops.py\", line 2956, in create_op\n    op_def=op_def)\n  File \"/home/logos/envs/prob_dropout/local/lib/python2.7/site-packages/tensorflow/python/framework/ops.py\", line 1470, in __init__\n    self._traceback = self._graph._extract_stack()  # pylint: disable=protected-access\n\nResourceExhaustedError (see above for traceback): OOM when allocating tensor with shape[524288,512]\n\t [[Node: multi_dRNN_dilation_32/multi_dRNN_dilation_32/gru_cell/concat_1 = ConcatV2[N=2, T=DT_DOUBLE, Tidx=DT_INT32, _device=\"/job:localhost/replica:0/task:0/device:GPU:0\"](concat_205, multi_dRNN_dilation_32/multi_dRNN_dilation_32/gru_cell/mul, multi_dRNN_dilation_64/multi_dRNN_dilation_64/gru_cell/split_1/split_dim)]]\n\t [[Node: div/_37 = _Recv[client_terminated=false, recv_device=\"/job:localhost/replica:0/task:0/device:CPU:0\", send_device=\"/job:localhost/replica:0/task:0/device:GPU:0\", send_device_incarnation=1, tensor_name=\"edge_7286_div\", tensor_type=DT_DOUBLE, _device=\"/job:localhost/replica:0/task:0/device:CPU:0\"]()]]\n",
     "output_type": "error",
     "traceback": [
      "\u001b[0;31m\u001b[0m",
      "\u001b[0;31mResourceExhaustedError\u001b[0mTraceback (most recent call last)",
      "\u001b[0;32m<ipython-input-7-c98e3e70380e>\u001b[0m in \u001b[0;36m<module>\u001b[0;34m()\u001b[0m\n\u001b[1;32m     26\u001b[0m                 \u001b[0my\u001b[0m \u001b[0;34m:\u001b[0m \u001b[0mbatch_y\u001b[0m\u001b[0;34m\u001b[0m\u001b[0m\n\u001b[1;32m     27\u001b[0m             }\n\u001b[0;32m---> 28\u001b[0;31m             \u001b[0mbpc_cost_\u001b[0m\u001b[0;34m,\u001b[0m \u001b[0mstep_\u001b[0m \u001b[0;34m=\u001b[0m \u001b[0msess\u001b[0m\u001b[0;34m.\u001b[0m\u001b[0mrun\u001b[0m\u001b[0;34m(\u001b[0m\u001b[0;34m[\u001b[0m\u001b[0mbpc_cost\u001b[0m\u001b[0;34m,\u001b[0m \u001b[0mglobal_step\u001b[0m\u001b[0;34m]\u001b[0m\u001b[0;34m,\u001b[0m \u001b[0mfeed_dict\u001b[0m\u001b[0;34m=\u001b[0m\u001b[0mfeed_dict\u001b[0m\u001b[0;34m)\u001b[0m\u001b[0;34m\u001b[0m\u001b[0m\n\u001b[0m\u001b[1;32m     29\u001b[0m             \u001b[0mbatch_bpcs\u001b[0m\u001b[0;34m.\u001b[0m\u001b[0mappend\u001b[0m\u001b[0;34m(\u001b[0m\u001b[0mbpc_cost_\u001b[0m\u001b[0;34m)\u001b[0m\u001b[0;34m\u001b[0m\u001b[0m\n\u001b[1;32m     30\u001b[0m         \u001b[0mvalidation_bpc\u001b[0m \u001b[0;34m=\u001b[0m \u001b[0mnp\u001b[0m\u001b[0;34m.\u001b[0m\u001b[0mmean\u001b[0m\u001b[0;34m(\u001b[0m\u001b[0mbatch_bpcs\u001b[0m\u001b[0;34m)\u001b[0m\u001b[0;34m\u001b[0m\u001b[0m\n",
      "\u001b[0;32m/home/logos/envs/prob_dropout/local/lib/python2.7/site-packages/tensorflow/python/client/session.pyc\u001b[0m in \u001b[0;36mrun\u001b[0;34m(self, fetches, feed_dict, options, run_metadata)\u001b[0m\n\u001b[1;32m    887\u001b[0m     \u001b[0;32mtry\u001b[0m\u001b[0;34m:\u001b[0m\u001b[0;34m\u001b[0m\u001b[0m\n\u001b[1;32m    888\u001b[0m       result = self._run(None, fetches, feed_dict, options_ptr,\n\u001b[0;32m--> 889\u001b[0;31m                          run_metadata_ptr)\n\u001b[0m\u001b[1;32m    890\u001b[0m       \u001b[0;32mif\u001b[0m \u001b[0mrun_metadata\u001b[0m\u001b[0;34m:\u001b[0m\u001b[0;34m\u001b[0m\u001b[0m\n\u001b[1;32m    891\u001b[0m         \u001b[0mproto_data\u001b[0m \u001b[0;34m=\u001b[0m \u001b[0mtf_session\u001b[0m\u001b[0;34m.\u001b[0m\u001b[0mTF_GetBuffer\u001b[0m\u001b[0;34m(\u001b[0m\u001b[0mrun_metadata_ptr\u001b[0m\u001b[0;34m)\u001b[0m\u001b[0;34m\u001b[0m\u001b[0m\n",
      "\u001b[0;32m/home/logos/envs/prob_dropout/local/lib/python2.7/site-packages/tensorflow/python/client/session.pyc\u001b[0m in \u001b[0;36m_run\u001b[0;34m(self, handle, fetches, feed_dict, options, run_metadata)\u001b[0m\n\u001b[1;32m   1118\u001b[0m     \u001b[0;32mif\u001b[0m \u001b[0mfinal_fetches\u001b[0m \u001b[0;32mor\u001b[0m \u001b[0mfinal_targets\u001b[0m \u001b[0;32mor\u001b[0m \u001b[0;34m(\u001b[0m\u001b[0mhandle\u001b[0m \u001b[0;32mand\u001b[0m \u001b[0mfeed_dict_tensor\u001b[0m\u001b[0;34m)\u001b[0m\u001b[0;34m:\u001b[0m\u001b[0;34m\u001b[0m\u001b[0m\n\u001b[1;32m   1119\u001b[0m       results = self._do_run(handle, final_targets, final_fetches,\n\u001b[0;32m-> 1120\u001b[0;31m                              feed_dict_tensor, options, run_metadata)\n\u001b[0m\u001b[1;32m   1121\u001b[0m     \u001b[0;32melse\u001b[0m\u001b[0;34m:\u001b[0m\u001b[0;34m\u001b[0m\u001b[0m\n\u001b[1;32m   1122\u001b[0m       \u001b[0mresults\u001b[0m \u001b[0;34m=\u001b[0m \u001b[0;34m[\u001b[0m\u001b[0;34m]\u001b[0m\u001b[0;34m\u001b[0m\u001b[0m\n",
      "\u001b[0;32m/home/logos/envs/prob_dropout/local/lib/python2.7/site-packages/tensorflow/python/client/session.pyc\u001b[0m in \u001b[0;36m_do_run\u001b[0;34m(self, handle, target_list, fetch_list, feed_dict, options, run_metadata)\u001b[0m\n\u001b[1;32m   1315\u001b[0m     \u001b[0;32mif\u001b[0m \u001b[0mhandle\u001b[0m \u001b[0;32mis\u001b[0m \u001b[0mNone\u001b[0m\u001b[0;34m:\u001b[0m\u001b[0;34m\u001b[0m\u001b[0m\n\u001b[1;32m   1316\u001b[0m       return self._do_call(_run_fn, self._session, feeds, fetches, targets,\n\u001b[0;32m-> 1317\u001b[0;31m                            options, run_metadata)\n\u001b[0m\u001b[1;32m   1318\u001b[0m     \u001b[0;32melse\u001b[0m\u001b[0;34m:\u001b[0m\u001b[0;34m\u001b[0m\u001b[0m\n\u001b[1;32m   1319\u001b[0m       \u001b[0;32mreturn\u001b[0m \u001b[0mself\u001b[0m\u001b[0;34m.\u001b[0m\u001b[0m_do_call\u001b[0m\u001b[0;34m(\u001b[0m\u001b[0m_prun_fn\u001b[0m\u001b[0;34m,\u001b[0m \u001b[0mself\u001b[0m\u001b[0;34m.\u001b[0m\u001b[0m_session\u001b[0m\u001b[0;34m,\u001b[0m \u001b[0mhandle\u001b[0m\u001b[0;34m,\u001b[0m \u001b[0mfeeds\u001b[0m\u001b[0;34m,\u001b[0m \u001b[0mfetches\u001b[0m\u001b[0;34m)\u001b[0m\u001b[0;34m\u001b[0m\u001b[0m\n",
      "\u001b[0;32m/home/logos/envs/prob_dropout/local/lib/python2.7/site-packages/tensorflow/python/client/session.pyc\u001b[0m in \u001b[0;36m_do_call\u001b[0;34m(self, fn, *args)\u001b[0m\n\u001b[1;32m   1334\u001b[0m         \u001b[0;32mexcept\u001b[0m \u001b[0mKeyError\u001b[0m\u001b[0;34m:\u001b[0m\u001b[0;34m\u001b[0m\u001b[0m\n\u001b[1;32m   1335\u001b[0m           \u001b[0;32mpass\u001b[0m\u001b[0;34m\u001b[0m\u001b[0m\n\u001b[0;32m-> 1336\u001b[0;31m       \u001b[0;32mraise\u001b[0m \u001b[0mtype\u001b[0m\u001b[0;34m(\u001b[0m\u001b[0me\u001b[0m\u001b[0;34m)\u001b[0m\u001b[0;34m(\u001b[0m\u001b[0mnode_def\u001b[0m\u001b[0;34m,\u001b[0m \u001b[0mop\u001b[0m\u001b[0;34m,\u001b[0m \u001b[0mmessage\u001b[0m\u001b[0;34m)\u001b[0m\u001b[0;34m\u001b[0m\u001b[0m\n\u001b[0m\u001b[1;32m   1337\u001b[0m \u001b[0;34m\u001b[0m\u001b[0m\n\u001b[1;32m   1338\u001b[0m   \u001b[0;32mdef\u001b[0m \u001b[0m_extend_graph\u001b[0m\u001b[0;34m(\u001b[0m\u001b[0mself\u001b[0m\u001b[0;34m)\u001b[0m\u001b[0;34m:\u001b[0m\u001b[0;34m\u001b[0m\u001b[0m\n",
      "\u001b[0;31mResourceExhaustedError\u001b[0m: OOM when allocating tensor with shape[524288,512]\n\t [[Node: multi_dRNN_dilation_32/multi_dRNN_dilation_32/gru_cell/concat_1 = ConcatV2[N=2, T=DT_DOUBLE, Tidx=DT_INT32, _device=\"/job:localhost/replica:0/task:0/device:GPU:0\"](concat_205, multi_dRNN_dilation_32/multi_dRNN_dilation_32/gru_cell/mul, multi_dRNN_dilation_64/multi_dRNN_dilation_64/gru_cell/split_1/split_dim)]]\n\t [[Node: div/_37 = _Recv[client_terminated=false, recv_device=\"/job:localhost/replica:0/task:0/device:CPU:0\", send_device=\"/job:localhost/replica:0/task:0/device:GPU:0\", send_device_incarnation=1, tensor_name=\"edge_7286_div\", tensor_type=DT_DOUBLE, _device=\"/job:localhost/replica:0/task:0/device:CPU:0\"]()]]\n\nCaused by op u'multi_dRNN_dilation_32/multi_dRNN_dilation_32/gru_cell/concat_1', defined at:\n  File \"/usr/lib/python2.7/runpy.py\", line 162, in _run_module_as_main\n    \"__main__\", fname, loader, pkg_name)\n  File \"/usr/lib/python2.7/runpy.py\", line 72, in _run_code\n    exec code in run_globals\n  File \"/home/logos/envs/prob_dropout/lib/python2.7/site-packages/ipykernel_launcher.py\", line 16, in <module>\n    app.launch_new_instance()\n  File \"/home/logos/envs/prob_dropout/local/lib/python2.7/site-packages/traitlets/config/application.py\", line 658, in launch_instance\n    app.start()\n  File \"/home/logos/envs/prob_dropout/local/lib/python2.7/site-packages/ipykernel/kernelapp.py\", line 478, in start\n    self.io_loop.start()\n  File \"/home/logos/envs/prob_dropout/local/lib/python2.7/site-packages/zmq/eventloop/ioloop.py\", line 177, in start\n    super(ZMQIOLoop, self).start()\n  File \"/home/logos/envs/prob_dropout/local/lib/python2.7/site-packages/tornado/ioloop.py\", line 888, in start\n    handler_func(fd_obj, events)\n  File \"/home/logos/envs/prob_dropout/local/lib/python2.7/site-packages/tornado/stack_context.py\", line 277, in null_wrapper\n    return fn(*args, **kwargs)\n  File \"/home/logos/envs/prob_dropout/local/lib/python2.7/site-packages/zmq/eventloop/zmqstream.py\", line 440, in _handle_events\n    self._handle_recv()\n  File \"/home/logos/envs/prob_dropout/local/lib/python2.7/site-packages/zmq/eventloop/zmqstream.py\", line 472, in _handle_recv\n    self._run_callback(callback, msg)\n  File \"/home/logos/envs/prob_dropout/local/lib/python2.7/site-packages/zmq/eventloop/zmqstream.py\", line 414, in _run_callback\n    callback(*args, **kwargs)\n  File \"/home/logos/envs/prob_dropout/local/lib/python2.7/site-packages/tornado/stack_context.py\", line 277, in null_wrapper\n    return fn(*args, **kwargs)\n  File \"/home/logos/envs/prob_dropout/local/lib/python2.7/site-packages/ipykernel/kernelbase.py\", line 281, in dispatcher\n    return self.dispatch_shell(stream, msg)\n  File \"/home/logos/envs/prob_dropout/local/lib/python2.7/site-packages/ipykernel/kernelbase.py\", line 232, in dispatch_shell\n    handler(stream, idents, msg)\n  File \"/home/logos/envs/prob_dropout/local/lib/python2.7/site-packages/ipykernel/kernelbase.py\", line 397, in execute_request\n    user_expressions, allow_stdin)\n  File \"/home/logos/envs/prob_dropout/local/lib/python2.7/site-packages/ipykernel/ipkernel.py\", line 208, in do_execute\n    res = shell.run_cell(code, store_history=store_history, silent=silent)\n  File \"/home/logos/envs/prob_dropout/local/lib/python2.7/site-packages/ipykernel/zmqshell.py\", line 533, in run_cell\n    return super(ZMQInteractiveShell, self).run_cell(*args, **kwargs)\n  File \"/home/logos/envs/prob_dropout/local/lib/python2.7/site-packages/IPython/core/interactiveshell.py\", line 2718, in run_cell\n    interactivity=interactivity, compiler=compiler, result=result)\n  File \"/home/logos/envs/prob_dropout/local/lib/python2.7/site-packages/IPython/core/interactiveshell.py\", line 2822, in run_ast_nodes\n    if self.run_code(code, result):\n  File \"/home/logos/envs/prob_dropout/local/lib/python2.7/site-packages/IPython/core/interactiveshell.py\", line 2882, in run_code\n    exec(code_obj, self.user_global_ns, self.user_ns)\n  File \"<ipython-input-5-24744aac3aed>\", line 14, in <module>\n    pred = drnn_classification(x_emb, hidden_structs, dilations, n_steps, n_classes, input_dims, cell_type)\n  File \"./models/classification_models.py\", line 77, in drnn_classification\n    layer_outputs = multi_dRNN_with_dilations(cells, x_reformat, dilations)\n  File \"./models/drnn.py\", line 87, in multi_dRNN_with_dilations\n    x = dRNN(cell, x, dilation, scope=scope_name)\n  File \"./models/drnn.py\", line 58, in dRNN\n    dtype=tf.float64, scope=scope)\n  File \"/home/logos/envs/prob_dropout/local/lib/python2.7/site-packages/tensorflow/python/ops/rnn.py\", line 1253, in static_rnn\n    (output, state) = call_cell()\n  File \"/home/logos/envs/prob_dropout/local/lib/python2.7/site-packages/tensorflow/python/ops/rnn.py\", line 1240, in <lambda>\n    call_cell = lambda: cell(input_, state)\n  File \"/home/logos/envs/prob_dropout/local/lib/python2.7/site-packages/tensorflow/python/ops/rnn_cell_impl.py\", line 183, in __call__\n    return super(RNNCell, self).__call__(inputs, state)\n  File \"/home/logos/envs/prob_dropout/local/lib/python2.7/site-packages/tensorflow/python/layers/base.py\", line 575, in __call__\n    outputs = self.call(inputs, *args, **kwargs)\n  File \"/home/logos/envs/prob_dropout/local/lib/python2.7/site-packages/tensorflow/python/ops/rnn_cell_impl.py\", line 334, in call\n    c = self._activation(self._candidate_linear([inputs, r_state]))\n  File \"/home/logos/envs/prob_dropout/local/lib/python2.7/site-packages/tensorflow/python/ops/rnn_cell_impl.py\", line 1189, in __call__\n    res = math_ops.matmul(array_ops.concat(args, 1), self._weights)\n  File \"/home/logos/envs/prob_dropout/local/lib/python2.7/site-packages/tensorflow/python/ops/array_ops.py\", line 1099, in concat\n    return gen_array_ops._concat_v2(values=values, axis=axis, name=name)\n  File \"/home/logos/envs/prob_dropout/local/lib/python2.7/site-packages/tensorflow/python/ops/gen_array_ops.py\", line 706, in _concat_v2\n    \"ConcatV2\", values=values, axis=axis, name=name)\n  File \"/home/logos/envs/prob_dropout/local/lib/python2.7/site-packages/tensorflow/python/framework/op_def_library.py\", line 787, in _apply_op_helper\n    op_def=op_def)\n  File \"/home/logos/envs/prob_dropout/local/lib/python2.7/site-packages/tensorflow/python/framework/ops.py\", line 2956, in create_op\n    op_def=op_def)\n  File \"/home/logos/envs/prob_dropout/local/lib/python2.7/site-packages/tensorflow/python/framework/ops.py\", line 1470, in __init__\n    self._traceback = self._graph._extract_stack()  # pylint: disable=protected-access\n\nResourceExhaustedError (see above for traceback): OOM when allocating tensor with shape[524288,512]\n\t [[Node: multi_dRNN_dilation_32/multi_dRNN_dilation_32/gru_cell/concat_1 = ConcatV2[N=2, T=DT_DOUBLE, Tidx=DT_INT32, _device=\"/job:localhost/replica:0/task:0/device:GPU:0\"](concat_205, multi_dRNN_dilation_32/multi_dRNN_dilation_32/gru_cell/mul, multi_dRNN_dilation_64/multi_dRNN_dilation_64/gru_cell/split_1/split_dim)]]\n\t [[Node: div/_37 = _Recv[client_terminated=false, recv_device=\"/job:localhost/replica:0/task:0/device:CPU:0\", send_device=\"/job:localhost/replica:0/task:0/device:GPU:0\", send_device_incarnation=1, tensor_name=\"edge_7286_div\", tensor_type=DT_DOUBLE, _device=\"/job:localhost/replica:0/task:0/device:CPU:0\"]()]]\n"
     ]
    }
   ],
   "source": [
    "step = 0\n",
    "train_results = []\n",
    "validation_results = []\n",
    "test_results = []\n",
    "\n",
    "while step < 10000000:\n",
    "    batch_x, batch_y = ptb_data1.random_train_batch(batch_size, n_steps)    \n",
    "\n",
    "    feed_dict = {\n",
    "        x : batch_x,\n",
    "        y : batch_y\n",
    "    }\n",
    "    bpc_cost_, step_,  _ = sess.run([bpc_cost, global_step, train_op], feed_dict=feed_dict)    \n",
    "    #train_results.append((step_, bpc_cost_))    \n",
    "\n",
    "    if (step + 1) % 10 == 0:\n",
    "        print \"Iter \" + str(step + 1) + \", Minibatch Loss: \" + \"{:.6f}\".format(bpc_cost_)\n",
    "             \n",
    "    if (step + 1) % 300 == 0:\n",
    "        \n",
    "        # validation performance\n",
    "        batch_bpcs = []\n",
    "        for batch_x, batch_y in ptb_data1.get_validation_batches():\n",
    "            feed_dict = {\n",
    "                x : batch_x,\n",
    "                y : batch_y\n",
    "            }\n",
    "            bpc_cost_, step_ = sess.run([bpc_cost, global_step], feed_dict=feed_dict) \n",
    "            batch_bpcs.append(bpc_cost_)\n",
    "        validation_bpc = np.mean(batch_bpcs)\n",
    "        print \"========> Validation BPC: \" + \"{:.6f}\".format(validation_bpc) + \" over %d batches\" % len(batch_bpcs)\n",
    "    step += 1"
   ]
  },
  {
   "cell_type": "code",
   "execution_count": 40,
   "metadata": {},
   "outputs": [
    {
     "name": "stdout",
     "output_type": "stream",
     "text": [
      "0.5625\n"
     ]
    }
   ],
   "source": [
    "logits = sess.run(pred, feed_dict=feed_dict)\n",
    "correct_pred = np.equal(np.argmax(logits,-1), batch_y)\n",
    "print np.mean(correct_pred.astype(np.float32))"
   ]
  }
 ],
 "metadata": {
  "celltoolbar": "Raw Cell Format",
  "kernelspec": {
   "display_name": "Python 2",
   "language": "python",
   "name": "python2"
  },
  "language_info": {
   "codemirror_mode": {
    "name": "ipython",
    "version": 2
   },
   "file_extension": ".py",
   "mimetype": "text/x-python",
   "name": "python",
   "nbconvert_exporter": "python",
   "pygments_lexer": "ipython2",
   "version": "2.7.6"
  }
 },
 "nbformat": 4,
 "nbformat_minor": 2
}
